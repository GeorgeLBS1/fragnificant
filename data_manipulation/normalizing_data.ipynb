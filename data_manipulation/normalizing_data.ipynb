{
 "cells": [
  {
   "cell_type": "code",
   "execution_count": 1,
   "metadata": {},
   "outputs": [],
   "source": [
    "import json\n",
    "import pandas as pd"
   ]
  },
  {
   "cell_type": "code",
   "execution_count": 2,
   "metadata": {},
   "outputs": [],
   "source": [
    "# Path: data/fragances.json\n",
    "# Opening JSON file\n",
    "f = open(\"../data/fragances.json\", encoding=\"utf8\")\n",
    "\n",
    "# returns JSON object as \n",
    "# a dictionary\n",
    "data = json.load(f)"
   ]
  },
  {
   "cell_type": "code",
   "execution_count": 3,
   "metadata": {},
   "outputs": [
    {
     "name": "stdout",
     "output_type": "stream",
     "text": [
      "{'_id': {'$oid': '6536f1ab22f0db67ef748535'}, 'idNumber': 551, 'name': 'Le Secret Du Luxe Brocard perfume - a fragrance for women 2019', 'link': 'https://www.fragrantica.com/perfume/Brocard/Le-Secret-Du-Luxe-53808.html', 'img': 'https://fimgs.net/mdimg/perfume/social.53808.jpg', 'designer': 'Brocard', 'official_gender': 'for women', 'rating': 3.12, 'votes': 17, 'seasons': {'winter': 0, 'summer': 0, 'autumn': 0, 'spring': 0}, 'hours': {'day': 0, 'night': 0}, 'fragance_aspects': {'longevity': {'very weak': 0, 'weak': 0, 'moderate': 0, 'long lasting': 0, 'eternal': 0}, 'sillage': {'intimate': 0, 'moderate': 0, 'strong': 0, 'enormous': 0}, 'gender': {'female': 0, 'more female': 0, 'unisex': 0, 'more male': 0, 'male': 0}}, 'main_accords': [{'Accord': 'white floral', 'Value': '100.00'}, {'Accord': 'musky', 'Value': '89.50'}, {'Accord': 'fresh', 'Value': '73.40'}, {'Accord': 'sweet', 'Value': '73.05'}, {'Accord': 'fruity', 'Value': '72.70'}, {'Accord': 'powdery', 'Value': '66.40'}, {'Accord': 'soft spicy', 'Value': '59.75'}, {'Accord': 'vanilla', 'Value': '58.00'}, {'Accord': 'aquatic', 'Value': '55.20'}, {'Accord': 'floral', 'Value': '47.85'}], 'top_notes': ['Pear', 'Pink Pepper', 'Melon', 'Citruses'], 'middle_notes': ['Jasmine', 'Lily-of-the-Valley', 'Black Currant', 'Rose', 'Gardenia'], 'base_notes': ['Musk', 'Vanilla', 'Sandalwood']}\n"
     ]
    }
   ],
   "source": [
    "print(data[550])"
   ]
  },
  {
   "cell_type": "code",
   "execution_count": 4,
   "metadata": {},
   "outputs": [],
   "source": [
    "def flatten_data(data):\n",
    "    flattened_data = []\n",
    "    for item in data:\n",
    "        flattened_item = {\n",
    "            \"id\": item[\"_id\"][\"$oid\"],\n",
    "            \"idNumber\": item[\"idNumber\"],\n",
    "            \"name\": item[\"name\"],\n",
    "            \"link\": item[\"link\"] if \"link\" in item else None,\n",
    "            \"img\": item[\"img\"] if \"img\" in item else None,\n",
    "            \"designer\": item[\"designer\"],\n",
    "            \"official_gender\": item[\"official_gender\"],\n",
    "            \"rating\": item[\"rating\"],\n",
    "            \"votes\": item[\"votes\"],\n",
    "            \"winter\": item[\"seasons\"][\"winter\"],\n",
    "            \"summer\": item[\"seasons\"][\"summer\"],\n",
    "            \"autumn\": item[\"seasons\"][\"autumn\"],\n",
    "            \"spring\": item[\"seasons\"][\"spring\"],\n",
    "            \"day\": item[\"hours\"][\"day\"],\n",
    "            \"night\": item[\"hours\"][\"night\"],\n",
    "            \"longevity_very_weak\": item[\"fragance_aspects\"][\"longevity\"][\"very weak\"],\n",
    "            \"longevity_weak\": item[\"fragance_aspects\"][\"longevity\"][\"weak\"],\n",
    "            \"longevity_moderate\": item[\"fragance_aspects\"][\"longevity\"][\"moderate\"],\n",
    "            \"longevity_long_lasting\": item[\"fragance_aspects\"][\"longevity\"][\"long lasting\"],\n",
    "            \"longevity_very_eternal\": item[\"fragance_aspects\"][\"longevity\"][\"eternal\"],\n",
    "            \"sillage_intimate\": item[\"fragance_aspects\"][\"sillage\"][\"intimate\"],\n",
    "            \"sillage_moderate\": item[\"fragance_aspects\"][\"sillage\"][\"moderate\"],\n",
    "            \"sillage_strong\": item[\"fragance_aspects\"][\"sillage\"][\"strong\"],\n",
    "            \"sillage_enormous\": item[\"fragance_aspects\"][\"sillage\"][\"enormous\"],\n",
    "            \"gender_female\": item[\"fragance_aspects\"][\"gender\"][\"female\"],\n",
    "            \"gender_more_female\": item[\"fragance_aspects\"][\"gender\"][\"more female\"],\n",
    "            \"gender_unisex\": item[\"fragance_aspects\"][\"gender\"][\"unisex\"],\n",
    "            \"gender_more_male\": item[\"fragance_aspects\"][\"gender\"][\"more male\"],\n",
    "            \"gender_male\": item[\"fragance_aspects\"][\"gender\"][\"male\"],\n",
    "            \"fragance_aspects\": item[\"fragance_aspects\"],\n",
    "            \"main_accords\": item[\"main_accords\"],\n",
    "            \"top_notes\": item[\"top_notes\"],\n",
    "            \"middle_notes\": item[\"middle_notes\"],\n",
    "            \"base_notes\": item[\"base_notes\"]\n",
    "        }\n",
    "        flattened_data.append(flattened_item)\n",
    "    return flattened_data"
   ]
  },
  {
   "cell_type": "code",
   "execution_count": 5,
   "metadata": {},
   "outputs": [
    {
     "name": "stdout",
     "output_type": "stream",
     "text": [
      "['asphault', 'brown scotch tape', 'soapy', 'lactonic', 'patchouli', 'tuberose', 'vanilla', 'sour', 'anis', 'vodka', 'lavender', 'tropical', 'beeswax', 'conifer', 'mossy', 'whiskey', 'oily', 'powdery', 'sand', 'plastic', 'foresty', 'nutty', 'clay', 'warm spicy', 'floral', 'coffee', 'mineral', 'cacao', 'rubber', 'earthy', 'bbq', 'caramel', 'cinnamon', 'white floral', 'musky', 'smoky', 'soft spicy', 'rum', 'animalic', 'coca-cola', 'ozonic', 'honey', 'aquatic', 'cherry', 'aromatic', 'terpenic', 'sweet', 'vinyl', 'tobacco', 'woody', 'leather', 'citrus', 'fresh', 'camphor', 'alcohol', 'salty', 'industrial glue', 'almond', 'violet', 'Champagne', 'chocolate', 'Pear', 'fresh spicy', 'marine', 'herbal', 'bitter', 'balsamic', 'green', 'aldehydic', 'fruity', 'cannabis', 'amber', 'coconut', 'metallic', 'rose', 'savory', 'yellow floral', 'wine', 'oud', 'iris']\n",
      "80\n"
     ]
    }
   ],
   "source": [
    "def get_all_main_accords(data):\n",
    "    main_accords = set()  # Usaremos un conjunto para evitar duplicados\n",
    "\n",
    "    for item in data:\n",
    "        if \"main_accords\" in item:  # Verificamos si la clave \"main_accords\" está presente\n",
    "            accords = item[\"main_accords\"]\n",
    "            for accord in accords:  # Verificamos si la clave \"Accord\" está presente\n",
    "                main_accords.add(accord[\"Accord\"])\n",
    "\n",
    "    return list(main_accords)\n",
    "\n",
    "# Ejemplo de uso\n",
    "print(get_all_main_accords(data))\n",
    "print(len(get_all_main_accords(data)))\n"
   ]
  },
  {
   "cell_type": "code",
   "execution_count": 6,
   "metadata": {},
   "outputs": [
    {
     "name": "stdout",
     "output_type": "stream",
     "text": [
      "['Pine', 'Sicilian Lemon', 'Rhubarb Leaf', 'Hiacynth', 'Green Lilac', 'Shamama Attar', 'Pineapple', 'Orchid', 'Darjeeling Tea', 'Water Violet', 'Hamanasu or Japanese Rose', 'Japanese Cherry Blossom', 'Earthy Notes', 'Guava', 'Tuberose', 'Fruit Tea', 'Pink Crystal', 'Tarragon', 'Sweet Pea', 'Cognac', 'Water Jasmine', 'Massoia Wood', 'Toffee', 'Brazilian Redwood', 'Coriander Leaf', 'Sage', 'Moroccan Rose', 'Coconut', 'Apple Leaf', 'Rice Basmati', 'Frosted Mango', 'Black Pomegranate', 'Tiare Flower', 'Watery Notes', 'Peppertree', 'Cascalone', 'Red Wine', 'Palmarosa', 'Finger Lime', 'Buchu or Agathosma', 'Lotus Leaf', 'Celery', 'Mojito', 'Sicilian Bergamot', 'Malt', 'Aromatic Notes', 'Jasmine', 'Mirabelle Plum', 'Fig Wood Bark', 'Tunisian Orange Blossom', 'Yellow Fruits', 'White Flowers', 'Cocobolo', 'African Geranium', 'Pear Blossom', 'Guarana', 'Marigold', 'Candied Ginger', 'Night blooming Cereus', 'Pitanga', 'Vine', 'Green Pepper', 'Acácia', 'Tolu Balsam', 'Jackfruit', 'Red Poppy', 'SP3 Carbon', 'Wild Strawberry Leaf', 'Bergamot Leaf', 'Bellini', 'Pebbles', 'Clary Sage', 'Orange Honey', 'Nigerian Ginger', 'Floral Notes', 'Cotton Flower', 'Wisteria Petals', 'Pataqueira', 'Poinsettia', 'Black locust', 'Kaffir Lime', 'Marjoram', 'Petitgrain Paraguay', 'Rose Oil', 'White Grapefruit', 'Storax', 'Java vetiver oil', 'Pink Rose', 'Cypress', 'White Iris', 'Litsea Cubeba', 'Californian Gardenia', 'Bergamot Blossom', 'Marzipan', 'White Violet', 'Vanilla', 'Ambroxan', 'Red Berries', 'Bubble Gum', 'Kir Royal', 'Cacao Pod', 'Boronia', 'White Amber', 'Mystikal', 'Chinese Orange', 'Honeysuckle', 'White Pepper', 'Turmeric', 'Italian Tangerine', 'Mirabella Plum', 'Bamboo Leaf', 'Eglantine Rose', 'Gourmand Accord', 'Lemonade', 'Syringa', 'Blueberry', 'Wild Rose', 'Lemon Blossom', 'Red Peony', 'Apricot Blossom', 'Mace', 'Californian Fig', 'Copaiba balm', 'Wildflowers', 'Bamboo', 'Nasturtium', 'Iris leaf', 'Peony', 'Tincture of Rose', 'Citrus and Floral Notes', 'Bigarade', 'Frosted Berries', 'Walnut', 'Green Almond', 'Litchi', 'Hazelnut', 'Paprika', 'Tropical Fruits', 'Indonesian Nutmeg', 'Metallic notes', 'Citruses Water', 'Guatemalan Cardamom', 'Black Currant Blossom', 'Cabreuva', 'Hivernal®', 'Tobacco Leaf', 'Kumbaru', 'Heliotrope', 'Mimosa', 'Lydia Broom', 'Chutney', 'Candy Apple', 'Grasse Rose', 'Brazilian Orange', 'Karo Karounde', 'Teak Wood', 'Caramel', 'prickly pear', 'Fenugreek', 'Dewberry', 'Head Space Waterfall', 'Birch', 'Cashmirwood', 'Dodecanal', 'White Rose', 'Forest Fruits', 'Baie Rose', 'Cardamon', 'Tea Leaf', 'Truffle', 'Green Orange', 'Neroli', 'Calamansi', 'Freesia', 'Dark Plum Wu Mei', 'Ink', 'Oily Notes', 'Rain Notes', 'Tea', 'Red Thyme', 'Gardenia', 'Yogurt', 'Violet Leaf', 'Champagne', 'Brandy', 'Honey', 'Pea', 'Green Grass', 'Grass', 'Candied Almond', 'Moss', 'Lemon Tree', 'Cupcake', 'Oak', 'Dried Fruits', 'Beetroot', 'Lime (Linden Blossom)', 'Pear', 'Ambrette (Musk Mallow)', 'Herbal Notes', 'Cinammon', 'Burning Cherry', 'Balsamic Vinegar', 'Sicilian Citruses', 'Ozonic notes', 'Citrus Leaves', 'Mandora', 'Exotic floral notes', 'Whipped Cream', 'Egyptian Jasmine', 'Dark Chocolate', 'Vetyver', 'Water Fruit', 'Peach', 'Hyssop', 'Chestnut', 'Juicy Apricot', 'Soap', 'Castoreum', 'Pansy', 'Wild Strawberry', 'Watermelon', 'Magnolia Petals', 'Maraschino Cherry', 'Bearberry', 'Blackcurrant Syrup', 'Chinese Grapefruit', 'Styrax', 'Mate', 'Cashmeran', 'Grenadine', 'Wasabi', 'plum', 'White Oud', 'elemi', 'Lemongrass', 'Virginia Cedar', 'Vinyl', 'Stephanotis', 'Gin', 'Rose Water', 'Spicy Mint', 'Maple', 'Yuzu', ' Pepperwood™', 'Greengage', 'Seaweed', 'Pitahaya', 'Vanille', 'Birch Leaf', 'Labdanum', 'Rose Geranium', 'Red Apple', 'Ground Cherry', 'Violet Leaves', 'Coconut Blossom', 'May Rose', 'Soursop', 'Blue Sage', 'Gooseberry', 'Candied Fruits', 'Lip gloss', 'Rose Mallow', 'Cherry Milk', 'Pepper', 'Star Jasmine', 'Rice', 'Buddha Wood', 'Graperfuit', 'Wheat', 'Passionfruit', 'Red Freesia', 'Guaiac Wood', 'Pink Grapefruit', 'Applejack', 'Antillone™', 'Chili Pepper', 'Cupuacu, Cupuassu, Copoasu', 'Lemon Zest', 'Vermouth', 'Green Mango', 'Kiwi Flower', 'White Currant', 'Strelitzia', 'Frosted Apple', 'Sunflower', 'Italian Orris Root', 'Methyl Pamplemousse', 'Granny Smith apple', 'Sesame', 'Damask Rose', 'Fir Resin', 'Tropical Fruit', 'Limoncello', 'Pink Lotus', 'Reed', 'Coral Reef', 'Roasted Coffee Beans', 'Persimmon', 'Precious Woods', 'Raspberry', 'Ambrette', 'Neroli Essence', 'Gurjan balsam', 'CO2 Extracts', 'Musk Vodka', 'Parsley', 'Rose de Mai', 'Rose', 'Indian White Pepper', 'Fig', 'Tequila', 'Black Amber', 'Coffee', 'Zefir', 'Coca-Cola', 'Champagne Rosé', 'Camelia', 'Italian Violet', 'Red Algae', 'Orange Pepper', 'Passion Flower', 'Marmalade', 'White Cyclamen', 'Camellia', 'Lemon Leaf', 'Oud', 'Hibiscus Seed', 'NaturalCalm™', 'Sicilian Mandarin', 'Indian Jasmine', 'Pomelo', 'Vanilla Bean', 'Tangerine', 'Aquatic notes', 'Blue Hyacinth', 'Cloves', 'Elemi resin', 'Papyrus', 'Rosebay Willowherb', 'Bellflower', 'Coriander iandaldehydes', 'Citrus Blossom', 'Celery Seeds', 'Fig Tree', 'Zinnia', 'Tagetes', 'Aromatic Spices', 'White Cedar Extract', 'White Wine', 'Honeycomb', 'Lotus', 'Pomegranate', 'Lime peel', 'Spicy Notes', 'Frosted Melon', 'Hemlock', 'Nectarine', 'Olive Blossom', 'Pine Tree', 'Yellow Mandarin', 'Vanilla Orchid', 'Coriander Extract', 'Tahitian Vanilla', 'Artemisia', 'Red Pepper', 'Nutmeg', 'Hexyl acetate', 'Buriti', 'Orange', 'Kiwi', 'Pineapple Leaf', 'Japanese Pink Lotus', 'Exotic Fruits', 'Rosemary', 'Pitosporum', 'Fruits', 'Praline', 'Yellow Water Lily', 'Bougainvillea', 'Polygonum', 'White Honey', 'Narcissus', 'Cyperus esculentus', 'Yellow Freesia', 'Coconut Nectar', 'Punch', 'Orris Root', 'Geranium', 'Tamarind', 'Wormwood', 'Bay Leaf', 'Calamus', 'Turkish Rose', 'Haitian Vetiver', 'Frosted Orange', 'Flowers', 'Petitgrain', 'Orange Blossom', 'Juniper', 'Beeswax', 'Fruity and Spicy Notes', 'Galbanum', 'Apple', 'Almond', 'Ginseng', 'African Freesia Petals', 'Pink Peony', 'Almond Milk', 'Orange Oil', 'Green Notes', 'Nashi Pear', 'Amber', 'Fruity Notes', 'Tomato', 'Woodsy Notes', 'White Peach', 'Italian Orange', 'Night Blooming Jasmine', 'Santolina', 'Grapefruit', 'Black Tea', 'Brown sugar', 'Whiskey', 'Water Hyacinth', 'Red Chilli Pepper', 'Pear Ice Cream', 'Hedione', 'Strawberry', 'Animal notes', 'Hawthorn', 'Mahogany', 'Moon Flower', 'Coconut Milk', 'Tonic Water', 'Toscanol', 'Powdery Notes', 'Resin', 'Floral Fruity Notes', 'Opoponax', 'Brazilian Rosewood', 'Black Pepper', 'West Indian Bay', 'Myrtle', 'Marshmallow', 'Karo-Korund', 'Nettle', 'Larch', 'Magnolia', 'Cacao', 'Blood Mandarin', 'Ice cream', 'Asafoetida', 'Tomato Leaf', 'Iris', 'Cherry Blossom', 'citruses with sugar', 'Red Currant Blossom', 'Lime', 'Mirabelle', 'Cumin', 'Candied Lemon', 'Italian Lemon', 'Strawberry Leaf', 'Green Tangerine', 'Sugar Cane', 'Basil', 'Blood Grapefruit', 'Cactus', 'Plum', 'Rose Hip', 'Sandalwood', 'Calabrian bergamot', 'Chinese Tea', 'Berry Fruits', 'Oakmoss', 'Clove', 'Green Apple', 'Lemon Peel', 'Chrysanthemum', 'dark woodsy notes', 'Melon', 'Citruses', 'Clove Leaf', 'Gingerbread', 'Brazilian Mandarin', 'Cypress Leaf', 'Cade oil', 'Belanis', 'Chinese Plum', 'Myrhh', 'Pimento Seeds', 'Dihydromyrcenol', 'Acetylfuran', 'Mineral notes', 'Fig Leaf', 'Orangewood', 'Paradisone', 'Cedar Needles', 'Chinese Apricot', 'Star Anise', 'Cypriol Oil or Nagarmotha', 'Red Fruits', 'Coral Amber', 'Lemon', 'Sweet Orange', 'Red Tea', 'Black Currant', 'Japanese Loquat', 'Cranberry', 'White Orchid', 'oak moss', 'White Pear', 'Pink Nerium Oleander', 'African Orange Flower', 'Rum', 'black fig', 'White Ginger Lily', 'Black currant leaf', 'Red currant leaf', 'Red Rose', 'Cedarmoss', 'Chinese Litchi', 'Mexican chocolate', 'Coriander', 'Cactus Flower', 'Pink Pepper', 'Green Tea', 'Madagascar Pepper', 'Hellebore flower', 'Lavender Extract', 'Bergamot', 'Jabuticaba', 'Buckwheat Tea', 'Dew Drop', 'boxwood', 'Sweet Notes', 'Mignonette', 'Ebony Wood', 'Priprioca', 'Wild Lavender', 'Apple Blossom', 'Jacaranda', 'Indonesian Patchouli Leaf', 'Tuscan Iris', 'Basil Leaf', 'Meringue', 'Italian Cypress', 'Camphor', 'Earl Grey Tea', 'Milk', 'Incense', 'Umbu-Cajá | Taperebá', 'Cinnamon Leaf', 'Indian Saffron', 'White Hyacinth', 'Indian Ginger', 'Agarwood', 'Bourbon Pepper', 'Costus', 'Ambergris', 'Exotic Spices', 'Raspberry Bloom', 'Red Sandalwood', 'Atlas Cedar', 'French pastries', 'Dried Plum', 'Pear Leaf', 'Cedar Leaves', 'White Tea', 'Acerola', 'Laotian Oud', 'Smoke', 'Currant buds', 'Agave', 'Patchouli Leaf', 'Ishpink, Ocotea Quixos', 'Myrrh', 'Red Peach', 'Lavender', 'Wine Lees', 'Singapore Patchouli', 'Linen', 'Daisy', 'Musk', 'Absinthe', 'Bourbon Vanilla', 'Kumquat', 'Orange Leaf', 'Papaya flower', 'Amyl Salicylate', 'Sweet Almond', 'Snow', 'Dill', 'Olibanum', 'Carrot Seeds', 'Pink Litchi', 'Desert Rose', 'Winterberry', 'Blackberry', 'Wild Berries', 'Woody Notes', 'African Ginger', 'Iso E Super', 'Blood Orange', 'Calone', 'Amaryllis', 'Fern', 'Balsam Fir', 'Calypsone', 'French labdanum', 'Cardamom', 'Vanilla Absolute', 'Suede', 'Hatkora lemon', 'Osmanthus', 'Plum Tree', 'Scent Trek®', 'Sand', 'Dates', 'Spruce', 'Sumac', 'Creme Brulee', 'Jasmine Sambac', 'Pine Tree Needles', 'Red Mulberry', 'Stems Greens', 'Cedar Essence', 'Shiso', 'Green Coriander', 'Water Lily', 'Australian Sandalwood', 'Water Flowers', 'Confetti (Sugared Almonds)', 'Boysenberry', 'Macarons', 'Fennel', 'Banana Leaf', 'Lime (Linden) Blossom', 'Goji Berries', 'Sea water', 'Caraway', 'Indian Mandarin', 'Popcorn', 'Bitter Orange Blossom', 'gunpowder', 'Daim', 'Apricot', 'Madagascar Vanilla', 'Green Anjou Pears', 'Coumarin', 'Yellow Plum', 'Californian Lemon', 'Civet', 'Palisander Rosewood', 'Davana', 'Aquozone', 'Clementine', 'Palm Tree', 'Olive Tree', 'Watercress', 'Coconut Water', 'Lilybelle®', 'Marine notes', 'Ceylon Cinnamon', 'Galbanum Leaf', 'Black Cherry', 'Chamomile', 'Black Vanilla Husk', 'Rose Petals', 'Ginger', 'Sapodilla', 'Silk Tree blossom', 'Fresh Almond', 'Lemon Leaf Oil', 'Water Mint', 'Dyer’s Greenweed', 'Lily-of-the-Valley', 'Syrup', 'Laurels', 'Raspberry Leaf', 'Damask Plum', 'Cherry extract', 'Japanese Osmanthus', 'Pistachio', 'Nectarine blossom', 'Starfish', 'Pumpkin', 'mulberry', 'Maninka', 'Anise', 'Sea Salt', 'Chocolate', 'Cloudberry', 'Italian Jasmine', 'Verbena', 'Sea Notes', 'Mandarin Blossom', 'Pink Freesia', 'Almond Blossom', 'False Jasmine', 'White Bergamot', 'Champaca', 'Sorbet', 'Mint', 'Nutmeg Flower', 'Mimosa leaves', 'Japanese Plum', 'Amalfi Lemon', 'Rosa Rubiginosa', 'Green Orchid', 'Custard', 'Wallflower', 'Licorice', 'Jasmine Leaf', 'Raisin', 'Pine needles', 'Galanga', 'Banana', 'Aloe Vera', 'Orange Peel', 'Bitter Orange', 'Spices', 'Cosmos Flower', 'Bourbon Geranium', 'Cherry Liqueur', 'Eucalyptus', 'Grapefruit blossom', 'Flower Petals', 'Big Strawberry', 'Tea Rose', 'Silkwood Blossom', 'Bulgarian Rose', 'Mastic or Lentisque', 'Hortensia', 'Frangipani', 'Vetiver', 'Cyclamen', 'Mandarin Leaf', 'Citron Leaf', 'Datura', 'Cashmere Wood', 'Apple juice', 'Amyris', 'Carambola (Star Fruit)', 'Green Lily', 'Lime Blossom', 'Citron', 'Soil Tincture', 'Lily of the Valley', 'Cilantro', 'Oriental notes', 'Matcha Tea', 'Quince', 'Egyptian Pelargonium', 'Poppy', 'Liquor', 'Casablanca Lily', 'Sea Buckthorn', 'Cinnamon', 'Bitter Almond', 'Tobacco', 'Mimosa Petals', 'Wisteria', 'Citrus Leaf', 'Iris Flower', 'Taif Rose', 'Seagrass', 'California Orange', 'Red Currant', 'Aldehydes', 'White Musk', 'Ginger flower', 'Grapes', 'Solar Notes', 'Tunisian Neroli', 'Martini', 'White Chocolate', 'Garden Dill', 'Holly', 'Patchouli', 'Forget me not', 'Gentiana', 'Lily', 'Turkey Red Rose', 'Chinese Cinnamon Wood', 'Sugar', 'Orris', 'Williams Pear', 'Mango', 'Tangelo', 'Prunol', 'Ivy', 'Saffron', 'Palo Santo', 'Red Litchi', 'Ice', 'Olive', 'Iced Tea', 'Angelica', 'Tayberry', 'Cedar', 'Barberry', 'Black Cardamom', 'Green Leaves', 'Cactus Juice', 'Frankincense', 'Lantana leaves', 'Tangerine Blossom', 'Sicilian Orange', 'Instant film accord', 'Star apple', 'Papaya', 'Fir', 'Iced Lemon', 'Sparkling Water', 'Himalayan Poppy', 'Immortelle', 'Driftwood', 'Agarwood (Oud)', 'Peach Blossom', 'Indian Tuberose', 'Lilac', 'Hyacinth', 'Prunella', 'Aqual', 'Water Notes', 'Pistachio Leaf', 'Poplar (Populus) buds', 'Indian Oud', 'White Lily', 'Pimento Leaf', 'Sichuan Pepper', 'Pepperwood or Hercules Club', 'Valerian', 'Calabrian Mandarin', 'Chinotto', 'Japanese Orchid', 'Cotton Candy', 'Resins', 'Ebony', 'Caviar', 'Sake', 'Acai Berry', 'Beech', 'Peruvian Pepper', 'Carnation', 'Rhubarb', 'Nettle Blossom', 'Mandarin Orange', 'Rice Flower', 'Clover', 'Arum Lily', 'Rhuburb', 'Olive Leaf', 'Florida Grapefruit', 'Timur', 'Wild Orange', 'Candied Orange', 'Limetta', 'Mountain Air', 'Allspice', 'Juniper Berries', 'Salt', 'Green Tea Flower', 'Cassia', 'Lemon Verbena', 'Violet', 'Green Accord', 'Cherry', 'Italian Mandarin', 'Benzoin', 'Lemon Balm', 'Campari', 'Green Mandarin', 'Vodka', 'Fig Nectar', 'Oregano', 'Carrot', 'Cappuccino', 'cannabis', 'Kyara Incense', 'Ylang-Ylang', 'Cassis', 'Thyme', 'Sour Cherry', 'Rangoon Creeper', 'Chinese Peony', 'Leather', 'Sicilian Bitter Orange', 'Plum Blossom', 'Amaretto', 'Tulip', 'Hibiscus', 'juniper berry', 'Betel Pepper', 'Black and Pink Pepper', 'Broom', 'Royal Lily', 'Cucumber', 'Pimento', 'Palm Leaf', 'Tonka Bean']\n",
      "903\n"
     ]
    }
   ],
   "source": [
    "def get_all_top_notes(data):\n",
    "    top_notes = set()  # Usaremos un conjunto para evitar duplicados\n",
    "\n",
    "    for item in data:\n",
    "        if \"top_notes\" in item:\n",
    "            notes = item[\"top_notes\"]\n",
    "            for note in notes:\n",
    "                top_notes.add(note)\n",
    "\n",
    "    return list(top_notes)\n",
    "\n",
    "# Ejemplo de uso\n",
    "print(get_all_top_notes(data))\n",
    "print(len(get_all_top_notes(data)))\n"
   ]
  },
  {
   "cell_type": "code",
   "execution_count": 7,
   "metadata": {},
   "outputs": [
    {
     "name": "stdout",
     "output_type": "stream",
     "text": [
      "['Wild Orchid', 'Indian Mimosa', 'Sandalowood', 'Pine', 'Maltol', 'Sicilian Lemon', 'Rhubarb Leaf', 'Hiacynth', 'Chinese Cedar', 'Pineapple', 'Orchid', 'Chocolate Truffle', 'Apple Tree', 'Japanese Cherry Blossom', 'Henna', 'Earthy Notes', 'Guava', 'Floral bouquet', 'Tuberose', 'Pine tar', 'Orchard Blossom', 'Fruit Tea', 'Hamanasu or Japanese Rose', 'Sweet Pea', 'Tarragon', 'Cognac', 'Water Jasmine', 'Toffee', 'Dahlia', 'Brazilian Redwood', 'Coriander Leaf', 'Flax', 'Sandalwood Flower', 'Skin', 'Sage', 'Moroccan Rose', 'Coconut', 'Apple Leaf', 'Rice Basmati', 'Tiare Flower', 'Watery Notes', 'Red Fruits Smoothie', 'Cascalone', 'Red Wine', 'Palmarosa', 'Celery', 'Buchu or Agathosma', 'Lotus Leaf', 'Mojito', 'Sicilian Bergamot', 'White Blossom', 'Malt', 'Mangosteen', 'Aromatic Notes', 'Jasmine', 'Mirabelle Plum', 'Fig Wood Bark', 'Tunisian Orange Blossom', 'French Violet', 'White Flowers', 'Maple sap', 'Yellow Champaca', 'Azteca Lily', 'African Geranium', 'Pear Blossom', 'Guarana', 'Marigold', 'Candied Ginger', 'Night blooming Cereus', 'Acácia', 'Green Pepper', 'Tolu Balsam', 'Tahitian Gardenia', 'Red Poppy', 'Mayflower', 'Rhododendron', 'Jackfruit', 'Blackberry leaf', 'Bellini', 'Pebbles', 'Clary Sage', 'Indonesian Pepper', 'Nigerian Ginger', 'Slate', 'Tonka', 'Floral Notes', 'White Royal Lily', 'Cotton Flower', 'Pataqueira', 'Factor X', 'Bay essence', 'Black locust', 'Marjoram', 'Petitgrain Paraguay', 'Rose Oil', 'Israeli Basil', 'Sweet Pepper', 'Storax', 'Java vetiver oil', 'Pink Rose', 'Cypress', 'Tahitian Vetiver', 'Litsea Cubeba', 'White Iris', 'Oolong tea', 'Butomus umbellatus', 'White Violet', 'Marzipan', 'Vanilla', 'Ambroxan', 'Red Berries', 'Mugane', 'Panacotta', 'Redwood Flower', 'Bubble Gum', 'White Suede', 'Javanol', 'Cacao Pod', 'Boronia', 'White Amber', 'Skeleton Flower (Diphylleia Grayi)', 'Nympheal™', 'Honeysuckle', 'White Pepper', 'Turmeric', 'Mirabella Plum', 'Sclarene', 'Bamboo Leaf', 'Gourmand Accord', 'Syringa', 'Blueberry', 'Wild Rose', 'Red Peony', 'Lemon Blossom', 'Apricot Blossom', 'Lorenox', 'Tyger Lily', 'Buddleia', 'Mace', 'Orchid Pink Leopard', 'White Lotus', 'Copaiba balm', 'Loganberry', 'Wildflowers', 'Bamboo', 'Nasturtium', 'Hyrax', 'Peony', 'Tincture of Rose', 'Vanilla Pod', 'Spun Sugar', 'Citrus and Floral Notes', 'Walnut', 'Egyptian Rosewood', 'Green Almond', 'Litchi', 'Hazelnut', 'Paprika', 'Tropical Fruits', 'Kashmir wood', 'Metallic notes', 'Indonesian Nutmeg', 'Sand Lily', 'Guatemalan Cardamom', 'Cabreuva', 'Italian Iris', 'Hivernal®', 'Tobacco Leaf', 'Dandelion', 'Heliotrope', 'Mimosa', 'Black Currant Blossom', 'Candy Apple', 'Kephalis', 'Grasse Rose', 'Karo Karounde', 'Brazilian Orange', 'Caramel', 'Teak Wood', 'Fig Honey', 'Fenugreek', 'Dewberry', 'Head Space Waterfall', 'Yellow Narcissus', 'Birch', 'Cashmirwood', 'Green Forest', 'White Rose', 'Truffle', 'Baie Rose', 'Cardamon', 'Tea Leaf', 'Rock rose', 'Forest Fruits', 'Calla Lily', 'Neroli', 'Black Orchid', 'Freesia', 'Madagascar Ylang-Ylang', 'Ink', 'Oily Notes', 'Rain Notes', 'Milk Mousse', 'Tea', 'Red Thyme', 'Gardenia', 'Sinfonide', 'Yogurt', 'Champagne', 'Violet Leaf', 'Gustavia Flower', 'Brandy', 'Daiquiri', 'Honey', 'Impatiens', 'Green Grass', 'Grass', 'Candied Almond', 'Moss', 'Apple Mint', 'Lemon Tree', 'Cupcake', 'Masala Chai', 'Oak', 'Dried Fruits', 'Lime (Linden Blossom)', 'Pear', 'Herbal Notes', 'Ambrette (Musk Mallow)', 'Siberian Pine', 'Cinammon', 'Coton candy', 'Balsamic Vinegar', 'Ozonic notes', 'Citrus Leaves', 'Exotic floral notes', 'Whipped Cream', 'Egyptian Jasmine', 'Dark Chocolate', 'Vetyver', 'Water Fruit', 'Amberwood', 'Peach', 'Hyssop', 'Chestnut', 'Castoreum', 'Siam Benzoin', 'Hinoki Wood', 'Madagascar Vetiver', 'Pansy', 'Wild Strawberry', 'Watermelon', 'Magnolia Petals', 'Red Cedar', 'Blackcurrant Syrup', 'Styrax', 'Mate', 'Cashmeran', 'Avocado', 'Grenadine', 'Rose Oxide', 'Ambrarome', 'Lysylang', 'Pinot Noir grapes', 'plum', 'Silk', 'Black Elder', 'White Oud', 'elemi', 'Lemongrass', 'Virginia Cedar', 'Turnera Diffusa (Damiana)', 'Vinyl', 'Stephanotis', 'Gin', 'Amazon Lily', 'Rose Water', 'Spicy Mint', 'Ambertonic', 'Yuzu', 'Prosecco', ' Pepperwood™', 'Greengage', 'Seaweed', 'Tansy', 'Vanille', 'Pitahaya', 'Birch Leaf', 'Labdanum', 'Rose Geranium', 'Red Apple', 'Chinese Magnolia', 'Violet Leaves', 'Pink Hyacinth', 'May Rose', 'Soursop', 'Blue Sage', 'Golden Lily', 'Gooseberry', 'Primrose', 'Mock Orange', 'Rose Mallow', 'Pepper', 'Blue Lavender', 'Star Jasmine', 'Wild Peony', 'Roots', 'Tiramisu', 'Rice', 'Nard Himalayan (Jatamansi)', 'Indonesian Jasmine', 'Curry', 'Wheat', 'Passionfruit', 'Red Freesia', 'Guaiac Wood', 'Thailand Oud', 'Red Lily', 'Chili Pepper', 'Lemon Zest', 'Talc', 'Iran Galbanum', 'Iris Petals', 'White Currant', 'Cereals', 'Water Peony', 'Moroccan Mimosa', 'Starflower', 'Strelitzia', 'Sunflower', 'Italian Orris Root', 'Methyl Pamplemousse', 'Granny Smith apple', 'Sesame', 'Red Cyclamen', 'Damask Rose', 'Fir Resin', 'Tropical Fruit', 'Limoncello', 'Pink Lotus', 'Indian Lotus', 'Moroccan Jasmine', 'Reed', 'White Cardamom', 'Roasted Coffee Beans', 'Liatris', 'Persimmon', 'Precious Woods', 'Raspberry', 'Ambrette', 'Gurjan balsam', 'White Nerium Oleander', 'Neroli Essence', 'Rose de Mai', 'Rose', 'Fig', 'Cherimoya', 'Tequila', 'White Datura', 'Coffee', 'Coca-Cola', 'Champagne Rosé', 'Camelia', 'Italian Violet', 'Parma Violet', 'Sandal', 'Passion Flower', 'Marmalade', 'Camellia', 'Lemon Leaf', 'Oud', 'Hibiscus Seed', 'Indian Jasmine', 'Pomelo', 'Pomegranate Blossom', 'Aquatic notes', 'Blue Hyacinth', 'Tangerine', 'Oak Tree', 'Elemi resin', 'Cloves', 'Bellflower', 'Rosebay Willowherb', 'Papyrus', 'Citrus Blossom', 'Celery Seeds', 'Fig Tree', 'Zinnia', 'Tagetes', 'Aromatic Spices', 'White Cedar Extract', 'Lotus', 'Pomegranate', 'Bulrush', 'Spicy Notes', 'Artichoke', 'Melissa Flower', 'Nectarine', 'White Camelia', 'Olive Blossom', 'Pine Tree', 'Seriguela', 'Yellow Mandarin', 'Cinnamon Flower', 'Bengal Pepper', 'Virginian Cedar', 'Vanilla Orchid', 'White Woods', 'Coriander Extract', 'Tahitian Vanilla', 'Artemisia', 'Red Pepper', 'Nutmeg', 'Moroccan and Indian Jasmine', 'Kulfi', 'Cananga', 'Pecan', 'Daphne', 'Orange', 'Kiwi', 'Pineapple Leaf', 'Gariguette Strawberry', 'Flint', 'Angels Trumpet', 'Exotic Fruits', 'Rosemary', 'Clearwood', 'Pitosporum', 'Praline', 'Fruits', 'Bougainvillea', 'Narcissus', 'White Honey', 'Tobacco Blossom', 'Yellow Freesia', 'Mimosa absolute', 'Coconut Nectar', 'Orris Root', 'Wisteria Flower', 'Geranium', 'Indole', 'Haitian Vetiver', 'Bay Leaf', 'Wormwood', 'Tamarind', 'Turkish Rose', 'Piña Colada', 'Flowers', 'Orange Blossom', 'Petitgrain', 'Juniper', 'Beeswax', 'Pink Violet', 'Galbanum', 'Almond', 'Apple', 'Ginseng', 'Pink Peony', 'Almond Milk', 'Green Notes', 'Woodsy Notes', 'Amber', 'Fruity Notes', 'Dulce de leche', 'White Peach', 'Night Blooming Jasmine', 'Cistus Incanus', 'Hay', 'Pomarose', 'Grapefruit', 'Black Tea', 'Brown sugar', 'Whiskey', 'Water Hyacinth', 'Tahitian Tiare Flower', 'Red Chilli Pepper', 'Honeydew Blossom', 'Safraleine', 'Madagascar Cloves', 'Beer/Ale', 'Hedione', 'Strawberry', 'Animal notes', 'Akigalawood', 'Vanilla Flower', 'Cambodian Oud', 'Hawthorn', 'Mahogany', 'Coconut Milk', 'Lamprocapnos', 'Tonic Water', 'Powdery Notes', 'Lipstick', 'Resin', 'Floral Fruity Notes', 'Opoponax', 'Brazil nut', 'Brazilian Rosewood', 'Black Pepper', 'Myrtle', 'West Indian Bay', 'Marshmallow', 'Karo-Korund', 'Seashells', 'Magnolia', 'Cacao', 'Ice cream', 'Lapsang Souchong Tea', 'Tomato Leaf', 'Iris', 'Cherry Blossom', 'Yellow Rose', 'Lime', 'Mirabelle', 'Cumin', 'Black hemlock or Tsuga', 'Italian Lemon', 'Strawberry Leaf', 'Sugar Cane', 'Basil', 'Cactus', 'Lady of the Night Flower', 'Plum', 'Kyoto Rose petals', 'Transparent Woods', 'Sandalwood', 'Rose Hip', 'Calabrian bergamot', 'Bran', 'Chinese Pink Peony', 'Milk Cream', 'Berry Fruits', 'Chinese Jasmine', 'Clove', 'Oakmoss', 'Green Apple', 'Rosa Alba', 'Chrysanthemum', 'Lemon Peel', 'Melon', 'Lantana', 'Cottonwood (Poplar)', 'Citruses', 'Clove Leaf', 'Gingerbread', 'Blackwood', 'Cypress Leaf', 'Cade oil', 'Cornflower or Sultan seeds', 'Pineapple blossom', 'Myrhh', 'Dihydromyrcenol', 'Mineral notes', 'Fig Leaf', 'Princess Tree or Paulownia', 'Fig Blossom', 'Cedar Needles', 'Paradisone', 'Star Anise', 'Cypriol Oil or Nagarmotha', 'Pink Jasmine', 'Barley', 'Red Fruits', 'Lemon', 'Cedarwood', 'Red Tea', 'Moepel accord', 'Black Currant', 'Halva', 'White Orchid', 'Cranberry', 'oak moss', 'Black Rose', 'Pink Nerium Oleander', 'African Orange Flower', 'Georgywood', 'Birch Tar', 'Reseda', 'Oriental Woodsy notes', 'Mai Tai Cocktail', 'Rum', 'black fig', 'White Ginger Lily', 'Red Rose', 'Black currant leaf', 'Chinese Litchi', 'ebony tree', 'Rose Jam', 'Mexican chocolate', 'Coriander', 'Cactus Flower', 'Pink Pepper', 'Chinese Black Tea', 'Green Tea', 'Indian Spices', 'Madagascar Pepper', 'Egyptian Musk', 'Lavender Extract', 'Tucumã', 'Monoi Oil', 'Bergamot', 'Asphalt', 'Jabuticaba', 'Hellebore flower', 'Ravello Rose', 'Dew Drop', 'Loukhoum', 'Sweet Notes', 'Mignonette', 'Ebony Wood', 'Vanila', 'Priprioca', 'Wild Lavender', 'Apple Blossom', 'Indonesian Patchouli Leaf', 'Tuscan Iris', 'Meringue', 'Italian Cypress', 'Blueberry Leaf', 'Nougat', 'Marron glace', 'Earl Grey Tea', 'Camphor', 'heather', 'Milk', 'Incense', 'Umbu-Cajá | Taperebá', 'Cinnamon Leaf', 'Indian Saffron', 'Coranol', 'Indian Ginger', 'Agarwood', 'Tea Tree Oil', 'Bourbon Pepper', 'English Rose', 'Costus', 'Ambergris', 'Grape leaves', 'Exotic Spices', 'Raspberry Bloom', 'Banana Flower', 'Atlas Cedar', 'Dried Plum', 'White Magnolia', 'Cedar Leaves', 'Magnolan', 'White Tea', 'Laotian Oud', 'Smoke', 'Currant buds', 'Agave', 'Patchouli Leaf', 'Ishpink, Ocotea Quixos', 'Myrrh', 'Turkish Rose Oil', 'Fire', 'Lavender', 'Marshamallow', 'Vetiver Root', 'Singapore Patchouli', 'White Chocolate Truffle', 'Daisy', 'Linen', 'Musk', 'Absinthe', 'Orange Leaf', 'Kumquat', 'Bourbon Vanilla', 'Blue Lotus', 'Amyl Salicylate', 'Papaya flower', 'Sweet Almond', 'Capitiú', 'Olibanum', 'Butterfly Orchid', 'Carrot Seeds', 'Red Myrrh', 'Desert Rose', 'Blackberry', 'Wild Berries', 'Woody Notes', 'Iso E Super', 'Blood Orange', 'Amaryllis', 'Calone', 'Balsam Fir', 'Fern', 'French labdanum', 'Cardamom', 'Vanilla Absolute', 'Suede', 'Macadamia', 'Osmanthus', 'Scent Trek®', 'Sand', 'Dates', 'Spruce', 'Pine Tree Needles', 'Creme Brulee', 'Jasmine Sambac', 'Iris Butter', 'French Narcissus', 'African Violet', 'Cedar Essence', 'Shiso', 'Synthetic Civet', 'Water Lily', 'Peat', 'Water Flowers', 'pink tulip', 'Nerium Oleander', 'Macarons', 'Fennel', 'Lime (Linden) Blossom', 'Gold', 'White Leather', 'White Mimosa', 'Sea water', 'Caraway', 'Texas Cedar', 'Popcorn', 'Guava blossom', 'Daim', 'Genet', 'Apricot', 'Madagascar Vanilla', 'Green Anjou Pears', 'Coumarin', 'Laurissilva Forest', 'Yellow Plum', 'Civet', 'Palisander Rosewood', 'French Rose', 'Cassia Bourbon', 'Davana', 'Gorse', 'Aquozone', 'Clementine', 'Palm Tree', 'Campion Flower', 'Olive Tree', 'Watercress', 'Ceylon Cinnamon', 'Coconut Water', 'Marine notes', 'Lilybelle®', 'Rumex', 'Red Tulip', 'Black Cherry', 'Chamomile', 'Black Vanilla Husk', 'Sour Cherry Blossom', 'Snowdrops', 'Rose Petals', 'Ginger', 'Silk Tree blossom', 'Lemon Leaf Oil', 'Dyer’s Greenweed', 'Copahu Balm', 'Water Mint', 'Lily-of-the-Valley', 'Laurels', 'Raspberry Leaf', 'Damask Plum', 'Black Basil', 'Japanese Osmanthus', 'Pistachio', 'Nectarine blossom', 'Buttercream', 'Pumpkin', 'Breu-Branco', 'Maninka', 'Anise', 'Dove tree', 'Sea Salt', 'Hibiscus Blossom', 'Chocolate', 'Petalia', 'Italian Jasmine', 'Sea Notes', 'Verbena', 'Geosmin', 'Mandarin Blossom', 'Chinese Osmanthus', 'Champaca', 'False Jasmine', 'Pink Freesia', 'Almond Blossom', 'Liv Tyler Rose', 'Oat', 'Sorbet', 'Mint', 'Nutmeg Flower', 'Japanese Plum', 'Pear Wood', 'Amalfi Lemon', 'Bourbon Rose', 'Custard', 'Wallflower', 'Licorice', 'Jasmine Leaf', 'Mahonial', 'Pine needles', 'Galanga', 'Banana', 'Orange Peel', 'Bitter Orange', 'Varnish Accord', 'Freesia Petals', 'Spices', 'Bourbon Geranium', 'Ambrocenide', 'Eucalyptus', 'Grapefruit blossom', 'Flower Petals', 'Hazelnut cocoa spread', 'Jasmine Tea', 'Big Strawberry', 'Tea Rose', 'Silkwood Blossom', 'Red Vanill-Orchid', 'Violet Woodsorrel', 'Bulgarian Rose', 'Mastic or Lentisque', 'Hortensia', 'Frangipani', 'Vetiver', 'Cyclamen', 'Datura', 'Cashmere Wood', 'Apple juice', 'Yellow Poppy', 'Amyris', 'White Wood', 'Carambola (Star Fruit)', 'Vanilla Caviar', 'Satureja', 'Lime Blossom', 'Citron', 'Lily of the Valley', 'Soil Tincture', 'Green Lily', 'Tomato Flower', 'Oriental notes', 'Matcha Tea', 'Quince', 'Curry Tree', 'Egyptian Pelargonium', 'Poppy', 'Iris Pallida', 'Liquor', 'Pink Lily', 'Casablanca Lily', 'Rooibos Tea', 'Longan Berries', 'Cinnamon', 'Bitter Almond', 'Tobacco', 'Mimosa Petals', 'Wisteria', 'Citrus Leaf', 'Iris Flower', 'Taif Rose', 'Seagrass', 'Red Currant', 'Aldehydes', 'White Musk', 'Mahonia', 'Ginger flower', 'Grapes', 'White Heliotrope', 'Russian Leather', 'Indian Patchouli', 'Solar Notes', 'Tunisian Neroli', 'Pepper Oil', 'Canelé', 'White Chocolate', 'Holly', 'Patchouli', 'White Tobacco', 'Ash', 'Nutty Notes', 'Gentiana', 'Lily', 'Forget me not', 'Turkey Red Rose', 'Snowberry', 'Ylang Ylang', 'Sugar', 'Orris', 'Apple Tree Blossom', 'Mango', 'Prunol', 'Ivy', 'Saffron', 'Palo Santo', 'Ice', 'Plumeria', 'Olive', 'White Carnation', 'Angelica', 'Cedar', 'Barberry', 'Sequoia', 'Fuchsia', 'Black Cardamom', 'Green Leaves', 'Sea Daffodil', 'Dry Wood', 'Lotus Petals', 'Mango Blossom', 'Frankincense', 'Star apple', 'Black Leather', 'Fir', 'Papaya', 'Indonesian Carnation', 'Immortelle', 'Rose Leaf', 'Driftwood', 'Agarwood (Oud)', 'Peach Blossom', 'Indian Tuberose', 'Lilac', 'White Willow', 'Milk Chocolate', 'Hyacinth', 'Prunella', 'Coal', 'Bourbon Vetiver', 'Chocolate Flower', 'Black locust Honey', 'Water Notes', 'Coffee blossom', 'Spanish Jasmine', 'Indian Oud', 'Black Violet', 'White Lily', 'Pimento Leaf', 'Sichuan Pepper', 'Pepperwood or Hercules Club', 'Calabrian Mandarin', 'Exotic Woods', 'Cotton Candy', 'Sweet Grass', 'Resins', 'Balsamic Notes', 'Ebony', 'Caviar', 'Acai Berry', 'Spanish Labdanum', 'Wild Jasmine', 'Carnation', 'Rhubarb', 'Mandarin Orange', 'Clover', 'Arum Lily', 'Bubbaloo', 'Rose Juliette Greco', 'Rhuburb', 'Olive Leaf', 'Pelargonium', 'Timur', 'Paramela', 'French orange flower', 'Brioche', 'South African Sage', 'Allspice', 'Mountain Air', 'Saffiano Leather', 'Lichen', 'Green Lotus', 'Almond Cream', 'Juniper Berries', 'Salt', 'Green Tea Flower', 'Butter', 'Cassia', 'Mirabilis', 'Lemon Verbena', 'Transparent Flowers', 'Violet', 'Green Accord', 'Alumroot', 'Silk Vine or Milk Broom', 'Cherry', 'Benzoin', 'Italian Mandarin', 'Maple', 'Green Mandarin', 'Vodka', 'Fig Nectar', 'Oregano', 'Carrot', 'cannabis', 'Rose Thorn', 'Cappuccino', 'Ylang-Ylang', 'Cassis', 'Thyme', 'Violet Root', 'Sour Cherry', 'Rangoon Creeper', 'Chinese Peony', 'Leather', 'Plum Blossom', 'Black Iris', 'Amaretto', 'Tulip', 'Hibiscus', 'Broom', 'Betel Pepper', 'juniper berry', 'Black and Pink Pepper', 'Royal Lily', 'Cucumber', 'Peru Balsam', 'Pimento', 'Palm Leaf', 'White Sandalwood', 'Algae', 'Tonka Bean']\n",
      "1023\n"
     ]
    }
   ],
   "source": [
    "def get_all_middle_notes(data):\n",
    "    middle_notes = set()  # Usaremos un conjunto para evitar duplicados\n",
    "\n",
    "    for item in data:\n",
    "        if \"middle_notes\" in item:\n",
    "            notes = item[\"middle_notes\"]\n",
    "            for note in notes:\n",
    "                middle_notes.add(note)\n",
    "\n",
    "    return list(middle_notes)\n",
    "\n",
    "# Ejemplo de uso\n",
    "print(get_all_middle_notes(data))\n",
    "print(len(get_all_middle_notes(data)))\n"
   ]
  },
  {
   "cell_type": "code",
   "execution_count": 8,
   "metadata": {},
   "outputs": [
    {
     "name": "stdout",
     "output_type": "stream",
     "text": [
      "['Sandalowood', 'Pine', 'Maltol', 'Chinese Cedar', 'Pineapple', 'Orchid', 'Apple Tree', 'Earthy Notes', 'Tuberose', 'Ambrettolide', 'Dahlia', 'Massoia Wood', 'Cognac', 'Cake', 'Toffee', 'Water Jasmine', 'Brazilian Redwood', 'Skin', 'Sage', 'Coconut', 'Rice Basmati', 'Laburnum', 'Tiare Flower', 'Watery Notes', 'Red Wine', 'Palmarosa', 'Celery', 'Malt', 'Guaiacol', 'Vanilla Bahiana', 'Jasmine', 'White Flowers', 'Industrial glue', 'Natural Musk', 'Pitanga', 'Acácia', 'Tolu Balsam', 'Pebbles', 'Clary Sage', 'Tonka', 'Floral Notes', 'Cotton Flower', 'Mousse de Saxe', 'Pataqueira', 'Black locust', 'Petitgrain Paraguay', 'White Grapefruit', 'Rose Oil', 'Java vetiver oil', 'Cypress', 'Tahitian Vetiver', 'White Iris', 'Litsea Cubeba', 'Red Amber', 'Marzipan', 'White Violet', 'Vanilla', 'Ambroxan', 'Red Berries', 'Panacotta', 'Bubble Gum', 'White Suede', 'White Amber', 'Cacao Pod', 'Amber Xtreme', 'Mystikal', 'Honeysuckle', 'Turmeric', 'Gourmand Accord', 'Blueberry', 'Lorenox', 'Copaiba balm', 'Cashmere Musk', 'Wildflowers', 'Bamboo', 'Indian Vanilla', 'Hyrax', 'Stone', 'Peony', 'Tincture of Rose', 'Vanilla Pod', 'Spun Sugar', 'Walnut', 'Egyptian Rosewood', 'Green Almond', 'Nutella', 'Hazelnut', 'Litchi', 'Kashmir wood', 'Tropical Fruits', 'Paprika', 'Metallic notes', 'Indonesian Nutmeg', 'Virginian Patchouli', 'Italian Iris', 'Sycamore', 'Icing pink', 'Tobacco Leaf', 'Heliotrope', 'Mimosa', 'Mysore Sandalwood', 'Candy Apple', 'Caramel', 'Teak Wood', 'Fenugreek', 'Birch', 'Cashmirwood', 'White Rose', 'Truffle', 'Rock rose', 'Tea Leaf', 'Cardamon', 'Neroli', 'Velvet', 'Liquidambar', 'Freesia', 'Ink', 'Oily Notes', 'Milk Mousse', 'Rain Notes', 'Tea', 'Gardenia', 'Sinfonide', 'Violet Leaf', 'Brandy', 'Honey', 'Green Grass', 'Grass', 'Candied Almond', 'Moss', 'Lemon Tree', 'Cupcake', 'Oak', 'Dried Fruits', 'Lime (Linden Blossom)', 'Herbal Notes', 'Ambrette (Musk Mallow)', 'Pear', 'Cinammon', 'Coton candy', 'Balsamic Vinegar', 'Ozonic notes', 'Whipped Cream', 'Dark Chocolate', 'Vetyver', 'Amberwood', 'Peach', 'Chestnut', 'Castoreum', 'Hinoki Wood', 'Siam Benzoin', 'Madagascar Vetiver', 'Wild Strawberry', 'Watermelon', 'Red Cedar', 'Black Clover', 'Blackcurrant Syrup', 'Styrax', 'Mate', 'Cashmeran', 'Cashalox', 'Ambrarome', 'plum', 'White Oud', 'Trimofix®', 'elemi', 'Virginia Cedar', 'Stephanotis', 'Gin', 'Spicy Mint', 'Ambertonic', 'Yuzu', 'Seaweed', 'Vanille', 'Birch Leaf', 'Steam Accord', 'Labdanum', 'Rose Geranium', 'Moscow Mule', 'Violet Leaves', 'Pepper', 'Tiramisu', 'Roots', 'Rice', 'Graperfuit', 'Norlimbanol™', 'Passionfruit', 'Guaiac Wood', 'Thailand Oud', 'Sunflower', 'Sesame', 'Damask Rose', 'Fir Resin', 'Roasted Coffee Beans', 'Liatris', 'Precious Woods', 'Raspberry', 'Ambrette', 'Gurjan balsam', 'White Nerium Oleander', 'CO2 Extracts', 'Rose de Mai', 'Rose', 'Fig', 'Vinyl Guaiacol', 'Black Amber', 'Coffee', 'Parma Violet', 'Sandal', 'Almond Tree', 'Panettone', 'Passion Flower', 'Lemon Leaf', 'Oud', 'Hibiscus Seed', 'Vanilla Bean', 'Mushroom', 'Tangerine', 'Aquatic notes', 'Oak Tree', 'Cloves', 'Elemi resin', 'Papyrus', 'Celery Seeds', 'Fig Tree', 'Tagetes', 'White Cedar Extract', 'Canada Balsam', 'Honeycomb', 'Lotus', 'Pomegranate', 'White Wine', 'Spicy Notes', 'Assam Oud', 'Nectarine', 'Silver Pine', 'Pine Tree', 'Virginian Cedar', 'Vanilla Orchid', 'White Woods', 'Tahitian Vanilla', 'Artemisia', 'Nutmeg', 'Egyptian balsam', 'Orange', 'Evernyl', 'Exotic Fruits', 'Rosemary', 'Clearwood', 'Mexican Vanilla', 'Praline', 'Fruits', 'Narcissus', 'White Honey', 'Tobacco Blossom', 'Coconut Nectar', 'Orris Root', 'Gray Musk', 'Geranium', 'Haitian Vetiver', 'Wormwood', 'Bay Leaf', 'Tamarind', 'Turkish Rose', 'Serenolide', 'Flowers', 'Butterscotch', 'Orange Blossom', 'Petitgrain', \"Calissons d'Aix\", 'Juniper', 'Beeswax', 'Civetta', 'Galbanum', 'Almond', 'Brown Scotch Tape', 'Apple', 'Ginseng', 'Paperbark', 'Almond Milk', 'Orange Oil', 'Green Notes', 'Woodsy Notes', 'Amber', 'Fruity Notes', 'Tomato', 'Dulce de leche', 'White Peach', 'Cistus Incanus', 'Hay', 'Grapefruit', 'Brown sugar', 'Black Tea', 'Whiskey', 'Water Hyacinth', 'Hedione', 'Strawberry', 'Animal notes', 'Akigalawood', 'Cambodian Oud', 'Vanilla Flower', 'Hawthorn', 'Mahogany', 'Coconut Milk', 'Powdery Notes', 'Resin', 'Para-Cresyl Phenyl Acetate', 'Opoponax', 'Brazil nut', 'Brazilian Rosewood', 'Canadian balsam', 'Black Pepper', 'Myrtle', 'West Indian Bay', 'Marshmallow', 'Leatherwood', 'Larch', 'Cacao', 'Magnolia', 'Thanaka Wood', 'Ice cream', 'Cetalox', 'Iris', 'Lime', 'Mirabelle', 'Cumin', 'Italian Lemon', 'Sugar Cane', 'Basil', 'Plum', 'Cacao Butter', 'Transparent Woods', 'Sandalwood', 'Rose Hip', 'Bran', 'Berry Fruits', 'Oakmoss', 'Clove', 'dark woodsy notes', 'Melon', 'Cottonwood (Poplar)', 'Citruses', 'Gingerbread', 'Blackwood', 'Lava', 'Cade oil', 'Plum Wood', 'Pineapple blossom', 'Myrhh', 'White Rum', 'Agave nectar', 'Mineral notes', 'Fig Leaf', 'Orangewood', 'Princess Tree or Paulownia', 'Cedar Needles', 'Star Anise', 'Cypriol Oil or Nagarmotha', 'Barley', 'Red Fruits', 'Lemon', 'Cedarwood', 'Black Currant', 'oak moss', 'Black Rose', 'African Orange Flower', 'Georgywood', 'Birch Tar', 'Oriental Woodsy notes', 'Rum', 'Red Rose', 'Cedarmoss', 'ebony tree', 'Mexican chocolate', 'Coriander', 'Mitti Attar', 'Pink Pepper', 'Chinese Black Tea', 'Green Tea', 'Indian Spices', 'Hellebore flower', 'Egyptian Musk', 'Bergamot', 'Sylkolide', 'Loukhoum', 'Sweet Notes', 'Mignonette', 'Ebony Wood', 'Vanila', 'boxwood', 'Dreamwood', 'Priprioca', 'Apple Blossom', 'Indonesian Patchouli Leaf', 'Tuscan Iris', 'Meringue', 'Black Licorice', 'Nougat', 'Marron glace', 'Camphor', 'Light Amber', 'Milk', 'Incense', 'Agarwood', 'Tea Tree Oil', 'Costus', 'Ambergris', 'Exotic Spices', 'Raspberry Bloom', 'Red Sandalwood', 'Atlas Cedar', 'Dried Plum', 'White Tea', 'Laotian Oud', 'Smoke', 'Patchouli Leaf', 'Ishpink, Ocotea Quixos', 'Turkish Rose Oil', 'Myrrh', 'Red Peach', 'Fire', 'Lavender', 'Marshamallow', 'Orcanox™', 'Wine Lees', 'Singapore Patchouli', 'Musk', 'Bourbon Vanilla', 'Sweet Almond', 'Olibanum', 'Carrot Seeds', 'Desert Rose', 'Ambrofix™', 'Blackberry', 'Wild Berries', 'Woody Notes', 'Iso E Super', 'Ambreine', 'Christmas Tree or Flame Tree', 'Siam Resin', 'Calone', 'Macchiato', 'Balsam Fir', 'Fern', 'Calypsone', 'Helvetolide', 'French labdanum', 'Cardamom', 'Vanilla Absolute', 'Suede', 'Macadamia', 'Osmanthus', 'Plum Tree', 'Sand', 'Dates', 'Spruce', 'Creme Brulee', 'Pine Tree Needles', 'Jasmine Sambac', 'Iris Butter', 'Stems Greens', 'Cedar Essence', 'Ambrox Super', 'Gerbera', 'Synthetic Civet', 'Australian Sandalwood', 'Water Lily', 'Confetti (Sugared Almonds)', 'Roasted Nuts', 'Water Flowers', 'Peat', 'Nerium Oleander', 'Pearls', 'Macarons', 'Argan', 'Fennel', 'White Leather', 'California Cedar', 'Sea water', 'Caraway', 'Texas Cedar', 'Popcorn', 'gunpowder', 'Daim', 'Genet', 'Apricot', 'Madagascar Vanilla', 'Coumarin', 'Civet', 'Palisander Rosewood', 'Davana', 'Crystal Amber', 'Palm Tree', 'Olive Tree', 'Coconut Water', 'Black Vanilla Husk', 'Chamomile', 'Rose Petals', 'Ginger', 'Copahu Balm', 'Lily-of-the-Valley', 'Laurels', 'Raspberry Leaf', 'Milkshake', 'Damask Plum', 'Pistachio', 'Black Musk', 'Breu-Branco', 'Blonde Woods', 'Anise', 'Sea Salt', 'Chocolate', 'Sea Notes', 'Oat', 'Sorbet', 'Creosote Bush', 'Mint', 'Nutmeg Flower', 'Vietnamese Oud', 'Pear Wood', 'Japanese Plum', 'Rosa Rubiginosa', 'Custard', 'Licorice', 'Peach Cream', 'Raisin', 'Pine needles', 'Himalayan Cedar', 'Bitter Orange', 'Spices', 'Bourbon Geranium', 'Ambrocenide', 'Cherry Liqueur', 'Eucalyptus', 'Violet Woodsorrel', 'Bulgarian Rose', 'Mastic or Lentisque', 'Frangipani', 'Vetiver', 'Cyclamen', 'Natural Vanilla', 'Cashmere Wood', 'Chinese Patchouli', 'White Wood', 'Amyris', 'Green Lily', 'Soil Tincture', 'Oriental notes', 'Matcha Tea', 'Liquor', 'Cinnamon', 'Fish', 'Tobacco', 'Bitter Almond', 'Wisteria', 'Iris Flower', 'Taif Rose', 'Red Currant', 'White Musk', 'Aldehydes', 'White Heliotrope', 'Grapes', 'Vanilla Sugar', 'Russian Leather', 'Indian Patchouli', 'Solar Notes', 'Vanillin', 'White Chocolate', 'Holly', 'Patchouli', 'White Tobacco', 'Ash', 'Nutty Notes', 'Lily', 'Sugar', 'Orris', 'Mango', 'Ivy', 'Saffron', 'Palo Santo', 'Candlenut', 'Ice', 'Cosmone', 'Angelica', 'Cedar', 'Sequoia', 'Black Cardamom', 'Green Leaves', 'Dry Wood', 'Frankincense', 'Black Leather', 'Fir', 'Papaya', 'Immortelle', 'Driftwood', 'Agarwood (Oud)', 'Peach Blossom', 'Lilac', 'Hyacinth', 'Coal', 'Bourbon Vetiver', 'Belambra tree', 'Chocolate Flower', 'Moroccan Cedar', 'Black locust Honey', 'Water Notes', 'Poplar (Populus) buds', 'Indian Oud', 'Black Violet', 'White Lily', 'Safflower', 'Valerian', 'Exotic Woods', 'Cotton Candy', 'Cobblestone', 'Resins', 'Balsamic Notes', 'Ebony', 'Serbian Oakmoss', 'Acai Berry', 'Beech', 'Spanish Labdanum', 'Hinoki', 'Carnation', 'Rhubarb', 'Mandarin Orange', 'Clover', 'Rhuburb', 'Hungarian oakmoss', 'Allspice', 'Mountain Air', 'Lichen', 'Almond Wood', 'Almond Cream', 'Juniper Berries', 'Salt', 'Butter', 'Cassia', 'Lemon Verbena', 'Violet', 'Green Accord', 'Benzoin', 'Cherry', 'Maple', 'Vodka', 'Fig Nectar', 'Carrot', 'Kyara Incense', 'Ylang-Ylang', 'Violet Root', 'Cassis', 'Rangoon Creeper', 'Cherry Tree', 'Leather', 'Plum Blossom', 'Broom', 'juniper berry', 'Hibiscus', 'Black and Pink Pepper', 'Peru Balsam', 'Massoia', 'White Sandalwood', 'Palm Leaf', 'Algae', 'Pimento', 'Tonka Bean', 'Ambretone']\n",
      "667\n"
     ]
    }
   ],
   "source": [
    "def get_all_base_notes(data):\n",
    "    base_notes = set()  # Usaremos un conjunto para evitar duplicados\n",
    "\n",
    "    for item in data:\n",
    "        if \"base_notes\" in item:\n",
    "            notes = item[\"base_notes\"]\n",
    "            for note in notes:\n",
    "                base_notes.add(note)\n",
    "\n",
    "    return list(base_notes)\n",
    "\n",
    "# Ejemplo de uso\n",
    "print(get_all_base_notes(data))\n",
    "print(len(get_all_base_notes(data)))"
   ]
  },
  {
   "cell_type": "code",
   "execution_count": 9,
   "metadata": {},
   "outputs": [
    {
     "name": "stdout",
     "output_type": "stream",
     "text": [
      "16990\n"
     ]
    }
   ],
   "source": [
    "flatten_data_list = flatten_data(data)\n",
    "print(len(flatten_data_list))"
   ]
  },
  {
   "cell_type": "code",
   "execution_count": 10,
   "metadata": {},
   "outputs": [
    {
     "name": "stdout",
     "output_type": "stream",
     "text": [
      "{'id': '6536f1ab22f0db67ef748535', 'idNumber': 551, 'name': 'Le Secret Du Luxe Brocard perfume - a fragrance for women 2019', 'link': 'https://www.fragrantica.com/perfume/Brocard/Le-Secret-Du-Luxe-53808.html', 'img': 'https://fimgs.net/mdimg/perfume/social.53808.jpg', 'designer': 'Brocard', 'official_gender': 'for women', 'rating': 3.12, 'votes': 17, 'winter': 0, 'summer': 0, 'autumn': 0, 'spring': 0, 'day': 0, 'night': 0, 'longevity_very_weak': 0, 'longevity_weak': 0, 'longevity_moderate': 0, 'longevity_long_lasting': 0, 'longevity_very_eternal': 0, 'sillage_intimate': 0, 'sillage_moderate': 0, 'sillage_strong': 0, 'sillage_enormous': 0, 'gender_female': 0, 'gender_more_female': 0, 'gender_unisex': 0, 'gender_more_male': 0, 'gender_male': 0, 'fragance_aspects': {'longevity': {'very weak': 0, 'weak': 0, 'moderate': 0, 'long lasting': 0, 'eternal': 0}, 'sillage': {'intimate': 0, 'moderate': 0, 'strong': 0, 'enormous': 0}, 'gender': {'female': 0, 'more female': 0, 'unisex': 0, 'more male': 0, 'male': 0}}, 'main_accords': [{'Accord': 'white floral', 'Value': '100.00'}, {'Accord': 'musky', 'Value': '89.50'}, {'Accord': 'fresh', 'Value': '73.40'}, {'Accord': 'sweet', 'Value': '73.05'}, {'Accord': 'fruity', 'Value': '72.70'}, {'Accord': 'powdery', 'Value': '66.40'}, {'Accord': 'soft spicy', 'Value': '59.75'}, {'Accord': 'vanilla', 'Value': '58.00'}, {'Accord': 'aquatic', 'Value': '55.20'}, {'Accord': 'floral', 'Value': '47.85'}], 'top_notes': ['Pear', 'Pink Pepper', 'Melon', 'Citruses'], 'middle_notes': ['Jasmine', 'Lily-of-the-Valley', 'Black Currant', 'Rose', 'Gardenia'], 'base_notes': ['Musk', 'Vanilla', 'Sandalwood']}\n"
     ]
    }
   ],
   "source": [
    "print(flatten_data_list[550])"
   ]
  },
  {
   "cell_type": "code",
   "execution_count": 25,
   "metadata": {},
   "outputs": [
    {
     "name": "stdout",
     "output_type": "stream",
     "text": [
      "[{'asphault': 0}, {'brown scotch tape': 0}, {'soapy': 0}, {'lactonic': 0}, {'patchouli': 0}, {'tuberose': 0}, {'vanilla': '58.00'}, {'sour': 0}, {'anis': 0}, {'vodka': 0}, {'lavender': 0}, {'tropical': 0}, {'beeswax': 0}, {'conifer': 0}, {'mossy': 0}, {'whiskey': 0}, {'oily': 0}, {'powdery': '66.40'}, {'sand': 0}, {'plastic': 0}, {'foresty': 0}, {'nutty': 0}, {'clay': 0}, {'warm spicy': 0}, {'floral': '47.85'}, {'coffee': 0}, {'mineral': 0}, {'cacao': 0}, {'rubber': 0}, {'earthy': 0}, {'bbq': 0}, {'caramel': 0}, {'cinnamon': 0}, {'white floral': '100.00'}, {'musky': '89.50'}, {'smoky': 0}, {'soft spicy': '59.75'}, {'rum': 0}, {'animalic': 0}, {'coca-cola': 0}, {'ozonic': 0}, {'honey': 0}, {'aquatic': '55.20'}, {'cherry': 0}, {'aromatic': 0}, {'terpenic': 0}, {'sweet': '73.05'}, {'vinyl': 0}, {'tobacco': 0}, {'woody': 0}, {'leather': 0}, {'citrus': 0}, {'fresh': '73.40'}, {'camphor': 0}, {'alcohol': 0}, {'salty': 0}, {'industrial glue': 0}, {'almond': 0}, {'violet': 0}, {'Champagne': 0}, {'chocolate': 0}, {'Pear': 0}, {'fresh spicy': 0}, {'marine': 0}, {'herbal': 0}, {'bitter': 0}, {'balsamic': 0}, {'green': 0}, {'aldehydic': 0}, {'fruity': '72.70'}, {'cannabis': 0}, {'amber': 0}, {'coconut': 0}, {'metallic': 0}, {'rose': 0}, {'savory': 0}, {'yellow floral': 0}, {'wine': 0}, {'oud': 0}, {'iris': 0}]\n"
     ]
    }
   ],
   "source": [
    "main_accords = get_all_main_accords(data)\n",
    "def normalizing_main_accords(fragance_row):\n",
    "    return_data = []\n",
    "    for accord in main_accords:\n",
    "        if \"main_accords\" in fragance_row:\n",
    "            for item in fragance_row[\"main_accords\"]:\n",
    "                if item[\"Accord\"] == accord:\n",
    "                    accord_value = item[\"Value\"]\n",
    "                    break\n",
    "                else:\n",
    "                    accord_value = 0\n",
    "            return_data.append({accord: accord_value})\n",
    "    return return_data\n",
    "\n",
    "# Ejemplo de uso\n",
    "accords_normalized = normalizing_main_accords(data[550])\n",
    "print(accords_normalized)"
   ]
  }
 ],
 "metadata": {
  "kernelspec": {
   "display_name": ".venv",
   "language": "python",
   "name": "python3"
  },
  "language_info": {
   "codemirror_mode": {
    "name": "ipython",
    "version": 3
   },
   "file_extension": ".py",
   "mimetype": "text/x-python",
   "name": "python",
   "nbconvert_exporter": "python",
   "pygments_lexer": "ipython3",
   "version": "3.11.6"
  }
 },
 "nbformat": 4,
 "nbformat_minor": 2
}
