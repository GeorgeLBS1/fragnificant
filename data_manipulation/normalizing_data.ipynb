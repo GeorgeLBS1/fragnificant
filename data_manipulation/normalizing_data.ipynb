{
 "cells": [
  {
   "cell_type": "code",
   "execution_count": 1,
   "metadata": {},
   "outputs": [],
   "source": [
    "import json\n",
    "import pandas as pd"
   ]
  },
  {
   "cell_type": "code",
   "execution_count": 2,
   "metadata": {},
   "outputs": [],
   "source": [
    "# Path: data/fragances.json\n",
    "# Opening JSON file\n",
    "f = open(\"../data/fragances.json\", encoding=\"utf8\")\n",
    "\n",
    "# returns JSON object as \n",
    "# a dictionary\n",
    "data = json.load(f)"
   ]
  },
  {
   "cell_type": "code",
   "execution_count": 3,
   "metadata": {},
   "outputs": [
    {
     "name": "stdout",
     "output_type": "stream",
     "text": [
      "{'_id': {'$oid': '6536f1ab22f0db67ef748535'}, 'idNumber': 551, 'name': 'Le Secret Du Luxe Brocard perfume - a fragrance for women 2019', 'link': 'https://www.fragrantica.com/perfume/Brocard/Le-Secret-Du-Luxe-53808.html', 'img': 'https://fimgs.net/mdimg/perfume/social.53808.jpg', 'designer': 'Brocard', 'official_gender': 'for women', 'rating': 3.12, 'votes': 17, 'seasons': {'winter': 0, 'summer': 0, 'autumn': 0, 'spring': 0}, 'hours': {'day': 0, 'night': 0}, 'fragance_aspects': {'longevity': {'very weak': 0, 'weak': 0, 'moderate': 0, 'long lasting': 0, 'eternal': 0}, 'sillage': {'intimate': 0, 'moderate': 0, 'strong': 0, 'enormous': 0}, 'gender': {'female': 0, 'more female': 0, 'unisex': 0, 'more male': 0, 'male': 0}}, 'main_accords': [{'Accord': 'white floral', 'Value': '100.00'}, {'Accord': 'musky', 'Value': '89.50'}, {'Accord': 'fresh', 'Value': '73.40'}, {'Accord': 'sweet', 'Value': '73.05'}, {'Accord': 'fruity', 'Value': '72.70'}, {'Accord': 'powdery', 'Value': '66.40'}, {'Accord': 'soft spicy', 'Value': '59.75'}, {'Accord': 'vanilla', 'Value': '58.00'}, {'Accord': 'aquatic', 'Value': '55.20'}, {'Accord': 'floral', 'Value': '47.85'}], 'top_notes': ['Pear', 'Pink Pepper', 'Melon', 'Citruses'], 'middle_notes': ['Jasmine', 'Lily-of-the-Valley', 'Black Currant', 'Rose', 'Gardenia'], 'base_notes': ['Musk', 'Vanilla', 'Sandalwood']}\n"
     ]
    }
   ],
   "source": [
    "print(data[550])"
   ]
  },
  {
   "cell_type": "code",
   "execution_count": 21,
   "metadata": {},
   "outputs": [],
   "source": [
    "def flatten_data(data):\n",
    "    flattened_data = []\n",
    "    for item in data:\n",
    "        flattened_item = {\n",
    "            \"id\": item[\"_id\"][\"$oid\"],\n",
    "            \"idNumber\": item[\"idNumber\"],\n",
    "            \"name\": item[\"name\"],\n",
    "            \"link\": item[\"link\"] if \"link\" in item else None,\n",
    "            \"img\": item[\"img\"] if \"img\" in item else None,\n",
    "            \"designer\": item[\"designer\"],\n",
    "            \"official_gender\": item[\"official_gender\"],\n",
    "            \"rating\": item[\"rating\"],\n",
    "            \"votes\": item[\"votes\"],\n",
    "            \"winter\": item[\"seasons\"][\"winter\"],\n",
    "            \"summer\": item[\"seasons\"][\"summer\"],\n",
    "            \"autumn\": item[\"seasons\"][\"autumn\"],\n",
    "            \"spring\": item[\"seasons\"][\"spring\"],\n",
    "            \"day\": item[\"hours\"][\"day\"],\n",
    "            \"night\": item[\"hours\"][\"night\"],\n",
    "            \"longevity_very_weak\": item[\"fragance_aspects\"][\"longevity\"][\"very weak\"],\n",
    "            \"longevity_weak\": item[\"fragance_aspects\"][\"longevity\"][\"weak\"],\n",
    "            \"longevity_moderate\": item[\"fragance_aspects\"][\"longevity\"][\"moderate\"],\n",
    "            \"longevity_long_lasting\": item[\"fragance_aspects\"][\"longevity\"][\"long lasting\"],\n",
    "            \"longevity_very_eternal\": item[\"fragance_aspects\"][\"longevity\"][\"eternal\"],\n",
    "            \"sillage_intimate\": item[\"fragance_aspects\"][\"sillage\"][\"intimate\"],\n",
    "            \"sillage_moderate\": item[\"fragance_aspects\"][\"sillage\"][\"moderate\"],\n",
    "            \"sillage_strong\": item[\"fragance_aspects\"][\"sillage\"][\"strong\"],\n",
    "            \"sillage_enormous\": item[\"fragance_aspects\"][\"sillage\"][\"enormous\"],\n",
    "            \"gender_female\": item[\"fragance_aspects\"][\"gender\"][\"female\"],\n",
    "            \"gender_more_female\": item[\"fragance_aspects\"][\"gender\"][\"more female\"],\n",
    "            \"gender_unisex\": item[\"fragance_aspects\"][\"gender\"][\"unisex\"],\n",
    "            \"gender_more_male\": item[\"fragance_aspects\"][\"gender\"][\"more male\"],\n",
    "            \"gender_male\": item[\"fragance_aspects\"][\"gender\"][\"male\"],\n",
    "            \"fragance_aspects\": item[\"fragance_aspects\"],\n",
    "            \"main_accords\": item[\"main_accords\"],\n",
    "            \"top_notes\": item[\"top_notes\"],\n",
    "            \"middle_notes\": item[\"middle_notes\"],\n",
    "            \"base_notes\": item[\"base_notes\"]\n",
    "        }\n",
    "        flattened_data.append(flattened_item)\n",
    "    return flattened_data"
   ]
  },
  {
   "cell_type": "code",
   "execution_count": 8,
   "metadata": {},
   "outputs": [
    {
     "name": "stdout",
     "output_type": "stream",
     "text": [
      "['amber', 'brown scotch tape', 'aquatic', 'musky', 'wine', 'vanilla', 'tropical', 'green', 'lavender', 'violet', 'herbal', 'animalic', 'cannabis', 'smoky', 'ozonic', 'marine', 'balsamic', 'earthy', 'sweet', 'savory', 'vinyl', 'coconut', 'metallic', 'leather', 'yellow floral', 'oud', 'sand', 'tobacco', 'clay', 'lactonic', 'fresh', 'bitter', 'aromatic', 'sour', 'Pear', 'foresty', 'plastic', 'cacao', 'alcohol', 'powdery', 'rum', 'soapy', 'beeswax', 'aldehydic', 'oily', 'camphor', 'nutty', 'conifer', 'mineral', 'asphault', 'white floral', 'cherry', 'mossy', 'cinnamon', 'rose', 'rubber', 'coca-cola', 'whiskey', 'soft spicy', 'anis', 'industrial glue', 'salty', 'bbq', 'floral', 'patchouli', 'vodka', 'chocolate', 'terpenic', 'warm spicy', 'fresh spicy', 'fruity', 'almond', 'citrus', 'honey', 'woody', 'iris', 'coffee', 'caramel', 'tuberose', 'Champagne']\n",
      "80\n"
     ]
    }
   ],
   "source": [
    "def get_all_main_accords(data):\n",
    "    main_accords = set()  # Usaremos un conjunto para evitar duplicados\n",
    "\n",
    "    for item in data:\n",
    "        if \"main_accords\" in item:  # Verificamos si la clave \"main_accords\" está presente\n",
    "            accords = item[\"main_accords\"]\n",
    "            for accord in accords:  # Verificamos si la clave \"Accord\" está presente\n",
    "                main_accords.add(accord[\"Accord\"])\n",
    "\n",
    "    return list(main_accords)\n",
    "\n",
    "# Ejemplo de uso\n",
    "print(get_all_main_accords(data))\n",
    "print(len(get_all_main_accords(data)))\n"
   ]
  },
  {
   "cell_type": "code",
   "execution_count": 13,
   "metadata": {},
   "outputs": [
    {
     "name": "stdout",
     "output_type": "stream",
     "text": [
      "['Raisin', 'Petitgrain', 'Black Pomegranate', 'Cascalone', 'Wine Lees', 'Black and Pink Pepper', 'Chinese Orange', 'Bourbon Pepper', 'Teak Wood', 'Rose Geranium', 'Chutney', 'Red Peony', 'Night blooming Cereus', 'Hibiscus Seed', 'Larch', 'Fresh Almond', 'Almond Blossom', 'Rose Hip', 'White Iris', 'Blueberry', 'Heliotrope', 'Cinammon', 'Orange Peel', 'Jacaranda', 'Ebony', 'Red Currant Blossom', 'Tequila', 'Lydia Broom', 'Green Almond', 'Cupuacu, Cupuassu, Copoasu', 'Green Anjou Pears', 'Mystikal', 'Malt', 'Orangewood', 'Pea', 'Guatemalan Cardamom', 'Oakmoss', 'Yuzu', 'Bitter Almond', 'Kyara Incense', 'Wallflower', 'Styrax', 'Blackcurrant Syrup', 'Bigarade', 'Hedione', 'Fig', 'Snow', 'Sichuan Pepper', 'Birch', 'Juniper Berries', 'Lotus Leaf', 'Soap', 'Orange', 'Champaca', 'Red Rose', 'Woody Notes', 'Clove', 'Valerian', 'Fir Resin', 'Bamboo', 'Turkey Red Rose', 'Rose', 'Ambergris', 'Sweet Pea', 'Syringa', 'Santolina', 'Spruce', 'Darjeeling Tea', 'Woodsy Notes', 'Flowers', 'Nutmeg', 'Japanese Pink Lotus', 'Forest Fruits', 'Coconut Nectar', 'Mahogany', 'Green Tea', 'Pitosporum', 'Frosted Mango', 'Hazelnut', 'Italian Tangerine', 'Clary Sage', 'Lily-of-the-Valley', 'Passion Flower', 'Ambrette', 'California Orange', 'Ylang-Ylang', 'Marine notes', 'Cardamom', 'Gin', 'Marigold', 'Indian Saffron', 'Palm Tree', 'Silk Tree blossom', 'Timur', 'Resins', 'Orange Honey', 'Ceylon Cinnamon', 'Ambrette (Musk Mallow)', 'Mirabelle', 'Orange Leaf', 'Kumbaru', 'Apricot', 'Mojito', 'Lemon', 'Floral Notes', 'Almond', 'Bay Leaf', 'Currant buds', 'Green Coriander', 'Grenadine', 'Martini', 'Sugar', 'Williams Pear', 'Sea Salt', 'Acai Berry', 'Lime (Linden Blossom)', 'Osmanthus', 'Bergamot Blossom', 'Peruvian Pepper', 'Wild Strawberry', 'Red Fruits', 'Spicy Notes', 'Banana Leaf', 'Blue Hyacinth', 'Black Currant', 'Ishpink, Ocotea Quixos', 'Driftwood', 'Wild Lavender', 'Artemisia', 'Olibanum', 'Camellia', 'Musk', 'Oregano', 'Chinotto', 'Tobacco Leaf', 'Galbanum Leaf', 'White Amber', 'Wild Orange', 'Nasturtium', 'Iris Flower', 'White Lily', 'Vetyver', 'Frosted Melon', 'Mountain Air', 'Priprioca', 'Palmarosa', 'Rosebay Willowherb', 'Pitanga', 'Ginger flower', 'White Chocolate', 'Campari', 'Belanis', 'Black Cherry', 'Bearberry', 'Papaya flower', 'Bubble Gum', 'Bellflower', 'Red Apple', 'False Jasmine', 'White Pepper', 'Cassis', 'Sandalwood', 'Taif Rose', 'Boronia', 'Neroli Essence', 'Brazilian Mandarin', 'Sicilian Citruses', 'Rose Mallow', 'Aromatic Spices', 'Orris Root', 'Star Jasmine', 'Civet', 'Benzoin', 'Amyl Salicylate', 'Geranium', 'Calabrian Mandarin', 'Blood Mandarin', 'Jabuticaba', 'Vine', 'Poinsettia', 'juniper berry', 'Cilantro', 'Arum Lily', 'Vanilla Orchid', 'White Hyacinth', 'Coriander', 'Paprika', 'Rice Flower', 'Myrhh', 'Jasmine Leaf', 'Tonic Water', 'Sicilian Bitter Orange', 'Green Mango', 'Ebony Wood', 'Yogurt', 'gunpowder', 'Mimosa', 'Pebbles', 'Burning Cherry', 'Casablanca Lily', 'Nigerian Ginger', 'Vinyl', 'Red Chilli Pepper', 'Florida Grapefruit', 'Sicilian Orange', 'Peppertree', 'Buriti', 'Lilybelle®', 'White Ginger Lily', 'Peach Blossom', 'Cappuccino', 'Antillone™', 'Saffron', 'Confetti (Sugared Almonds)', 'Fig Tree', 'Exotic floral notes', 'Lemon Zest', 'Damask Rose', 'Castoreum', 'Angelica', 'Beeswax', 'Water Flowers', 'NaturalCalm™', 'Cloves', 'Balsam Fir', 'Sapodilla', 'Cactus', 'Candied Ginger', 'Whipped Cream', 'Magnolia', 'Iso E Super', 'Milk', 'Jasmine', 'Japanese Plum', 'Creme Brulee', ' Pepperwood™', 'Asafoetida', 'Cocobolo', 'Tayberry', 'Oily Notes', 'Laurels', 'Rose de Mai', 'Water Fruit', 'Cranberry', 'cannabis', 'Green Tea Flower', 'Verbena', 'Ambroxan', 'Roasted Coffee Beans', 'Italian Violet', 'Calypsone', 'Pink Rose', 'Marzipan', 'Elemi resin', 'Candied Fruits', 'Italian Jasmine', 'Pink Peony', 'Orange Blossom', 'Laotian Oud', 'Coconut Milk', 'Hibiscus', 'Juicy Apricot', 'Egyptian Jasmine', 'Sea Notes', 'Cedar Leaves', 'Chamomile', 'Pink Grapefruit', 'Green Mandarin', 'Green Leaves', 'Frangipani', 'Orange Oil', 'Black Pepper', 'Sweet Notes', 'Sweet Almond', 'Bellini', 'Cloudberry', 'Shiso', 'Tiare Flower', 'White Currant', 'Green Orange', 'Fruit Tea', 'Apple Blossom', 'Lotus', 'Lime peel', 'Quince', 'Cosmos Flower', 'Caviar', 'Tomato', 'Wheat', 'Syrup', 'Black Cardamom', 'Apple juice', 'Whiskey', 'Indonesian Nutmeg', 'Fruits', 'Cashmere Wood', 'Kiwi Flower', 'Mint', 'Chrysanthemum', 'Paradisone', 'Kir Royal', 'Red Poppy', 'Tincture of Rose', 'Flower Petals', 'Bergamot', 'Oak', 'Palo Santo', 'Indian Jasmine', 'Spices', 'Amyris', 'Cyperus esculentus', 'Datura', 'Storax', 'Pink Nerium Oleander', 'Hyssop', 'Brazilian Redwood', 'Ozonic notes', 'Cognac', 'White Grapefruit', 'Olive', 'Tangerine Blossom', 'Lantana leaves', 'Moroccan Rose', 'Coriander iandaldehydes', 'Buchu or Agathosma', 'Red Thyme', 'Popcorn', 'Fig Leaf', 'Cherry extract', 'Zefir', 'Peony', 'Pistachio', 'Tahitian Vanilla', 'Rain Notes', 'CO2 Extracts', 'White Pear', 'Granny Smith apple', 'Haitian Vetiver', 'Mandora', 'Rose Water', 'Powdery Notes', 'Poplar (Populus) buds', 'Violet', 'Daim', 'Praline', 'Italian Orris Root', 'Silkwood Blossom', 'Instant film accord', 'Animal notes', 'Mandarin Orange', 'Violet Leaf', 'Herbal Notes', 'Amaretto', 'Head Space Waterfall', 'Gardenia', 'Garden Dill', 'Rosa Rubiginosa', 'Mimosa Petals', 'Night Blooming Jasmine', 'Lime (Linden) Blossom', 'Mimosa leaves', 'Green Notes', 'Earthy Notes', 'Daisy', 'Madagascar Pepper', 'Californian Fig', 'May Rose', 'Coral Amber', 'Eucalyptus', 'Aloe Vera', 'Lemongrass', 'Pine Tree', 'Spicy Mint', 'Calone', 'Fern', 'Pansy', 'Parsley', 'Karo-Korund', 'Lily of the Valley', 'Applejack', 'Mango', 'Holly', 'Davana', 'Patchouli', 'Mandarin Blossom', 'Cade oil', 'Buddha Wood', 'Pimento Leaf', 'Cypriol Oil or Nagarmotha', 'Exotic Spices', 'Amber', 'Olive Tree', 'Patchouli Leaf', 'Sicilian Mandarin', 'Maple', 'Egyptian Pelargonium', 'Orange Pepper', 'Pink Freesia', 'Pepperwood or Hercules Club', 'Lemonade', 'Kaffir Lime', 'Citrus Leaves', 'Red Mulberry', 'Reed', 'Anise', 'White Orchid', 'Carnation', 'Italian Orange', 'Nashi Pear', 'Cedar Essence', 'Mastic or Lentisque', 'Macarons', 'Red Litchi', 'Sumac', 'Black Amber', 'Grass', 'Raspberry Leaf', 'Pink Litchi', 'Litchi', 'Watercress', 'Poppy', 'Barberry', 'Strelitzia', 'White Bergamot', 'Red currant leaf', 'Lime', 'Watery Notes', 'Fruity and Spicy Notes', 'Sicilian Lemon', 'Bougainvillea', 'Pear Ice Cream', 'Narcissus', 'Apple Leaf', 'Fennel', 'Coconut Water', 'Dihydromyrcenol', 'Sunflower', 'Champagne', 'Tonka Bean', 'Lemon Leaf Oil', 'Exotic Fruits', 'White Honey', 'Freesia', 'Mignonette', 'Rice Basmati', 'Dark Plum Wu Mei', 'Tarragon', 'Persimmon', 'Petitgrain Paraguay', 'Grapefruit', 'Celery', 'Beech', 'Hyacinth', 'prickly pear', 'Honey', 'Blood Grapefruit', 'Brazilian Orange', 'Moss', 'Zinnia', 'Green Tangerine', 'Wild Rose', 'Salt', 'Sand', 'Basil', 'Tagetes', 'Citruses Water', 'Red Wine', 'Stems Greens', 'Methyl Pamplemousse', 'Caraway', 'Strawberry Leaf', 'Juniper', 'Buckwheat Tea', 'Red Pepper', 'Shamama Attar', 'West Indian Bay', 'Celery Seeds', 'Stephanotis', 'Ground Cherry', 'Carrot Seeds', 'Grasse Rose', 'Maninka', 'Soursop', 'Yellow Mandarin', 'boxwood', 'Mate', 'citruses with sugar', 'White Cedar Extract', 'Cashmirwood', 'Cotton Flower', 'Java vetiver oil', 'Mineral notes', 'Starfish', 'Bourbon Geranium', 'Palisander Rosewood', 'Lilac', 'Cacao Pod', 'Coca-Cola', 'Labdanum', 'Chinese Litchi', 'Japanese Cherry Blossom', 'Apricot Blossom', 'Himalayan Poppy', 'Tulip', 'Japanese Orchid', 'Umbu-Cajá | Taperebá', 'Aquozone', 'plum', 'Dates', 'Cumin', 'Pimento Seeds', 'Frosted Apple', 'Chinese Apricot', 'Musk Vodka', 'Pear', 'Mace', 'Green Lily', 'Lemon Balm', 'Bamboo Leaf', 'Papyrus', 'White Rose', 'Cactus Juice', 'Plum', 'Fig Nectar', 'African Geranium', 'Red Berries', 'Papaya', 'Water Hyacinth', 'Boysenberry', 'Green Accord', 'Graperfuit', 'Red Peach', 'Cherry', 'Acetylfuran', 'Violet Leaves', 'Candied Almond', 'Rose Oil', 'Bitter Orange Blossom', 'Aquatic notes', 'Indian Ginger', 'Wild Berries', 'Green Lilac', 'Rose Petals', 'Italian Mandarin', 'Tropical Fruits', 'Karo Karounde', 'Allspice', 'Cardamon', 'Copaiba balm', 'Tuberose', 'Lemon Tree', 'Ice cream', 'Dyer’s Greenweed', 'Camelia', 'Scent Trek®', 'Truffle', 'Raspberry', 'Pine Tree Needles', 'Melon', 'Cherry Liqueur', 'Madagascar Vanilla', 'Vanilla', 'Jackfruit', 'Citrus Blossom', 'Wisteria Petals', 'Star Anise', 'Cedar', 'Candied Orange', 'Black Currant Blossom', 'Rice', 'Pineapple Leaf', 'Clementine', 'Meringue', 'Black locust', 'Frosted Berries', 'Agave', 'Vermouth', 'Cinnamon Leaf', 'Brandy', 'Pineapple', 'Eglantine Rose', 'Toscanol', 'Tolu Balsam', 'Red Tea', 'Olive Blossom', 'Pink Pepper', 'Yellow Plum', 'Tamarind', 'White Wine', 'Tropical Fruit', 'Dill', 'Rhubarb Leaf', 'Amalfi Lemon', 'Goji Berries', 'Cypress Leaf', 'Cabreuva', 'Rangoon Creeper', 'Kiwi', 'Tea Leaf', 'Tea Rose', 'Wormwood', 'Chinese Tea', 'Prunol', 'Frosted Orange', 'Sweet Orange', 'White Flowers', 'Palm Leaf', 'Green Orchid', 'Ink', 'Berry Fruits', 'Vanille', 'Mirabella Plum', 'Hiacynth', 'Raspberry Bloom', 'Smoke', 'Frankincense', 'Pine needles', 'Dark Chocolate', 'Thyme', 'Fir', 'Plum Tree', 'Forget me not', 'Hexyl acetate', 'Walnut', 'Leather', 'Gooseberry', 'Guaiac Wood', 'Italian Cypress', 'Pink Lotus', 'Red Algae', 'Hortensia', 'Rosemary', 'Nutmeg Flower', 'Cactus Flower', 'Metallic notes', 'Chinese Peony', 'Honeycomb', 'Singapore Patchouli', 'French labdanum', 'Watermelon', 'Iced Lemon', 'Marmalade', 'Lavender', 'Beetroot', 'Blood Orange', 'Big Strawberry', 'African Freesia Petals', 'Desert Rose', 'Orris', 'Cinnamon', 'Cedar Needles', 'Black Tea', 'Sicilian Bergamot', 'black fig', 'Cherry Blossom', 'Immortelle', 'Atlas Cedar', 'Vetiver', 'Brazilian Rosewood', 'Brown sugar', 'Marshmallow', 'Costus', 'Camphor', 'Fenugreek', 'Bulgarian Rose', 'Australian Sandalwood', 'Ginseng', 'Candied Lemon', 'Winterberry', 'Gurjan balsam', 'Tuscan Iris', 'Resin', 'Tunisian Neroli', 'Coumarin', 'Sage', 'Dew Drop', 'Suede', 'Polygonum', 'Black currant leaf', 'Cashmeran', 'Wildflowers', 'Sesame', 'Tea', 'Wisteria', 'Finger Lime', 'Gentiana', 'Blackberry', 'Red Sandalwood', 'Passionfruit', 'Vanilla Bean', 'Chili Pepper', 'Green Pepper', 'Caramel', 'Baie Rose', 'Pumpkin', 'Water Mint', 'elemi', 'Hawthorn', 'Citruses', 'Punch', 'Water Jasmine', 'Cotton Candy', 'Orchid', 'Magnolia Petals', 'Sugar Cane', 'Aqual', 'Japanese Loquat', 'Guarana', 'Sour Cherry', 'Iris leaf', 'Damask Plum', 'Yellow Water Lily', 'Liquor', 'Greengage', 'Litsea Cubeba', 'Calamansi', 'Cedarmoss', 'Cypress', 'Hemlock', 'Grapefruit blossom', 'Solar Notes', 'Champagne Rosé', 'Wasabi', 'Bergamot Leaf', 'Tomato Leaf', 'Green Grass', 'Indian Mandarin', 'Peach', 'Italian Lemon', 'Mandarin Leaf', 'Mexican chocolate', 'Oriental notes', 'Pine', 'Indian White Pepper', 'Coral Reef', 'Seaweed', 'Birch Leaf', 'Grapes', 'Turmeric', 'Sea Buckthorn', 'Ivy', 'Bitter Orange', 'Limoncello', 'White Oud', 'Cacao', 'Chestnut', 'Indonesian Patchouli Leaf', 'Indian Oud', 'Tobacco', 'Lime Blossom', 'Betel Pepper', 'Cupcake', 'Bourbon Vanilla', 'Lemon Leaf', 'White Tea', 'dark woodsy notes', 'Hivernal®', 'Coconut', 'oak moss', 'Pepper', 'Pomelo', 'Water Notes', 'Aldehydes', 'White Musk', 'Tangelo', 'Precious Woods', 'Agarwood (Oud)', 'Rhuburb', 'Clove Leaf', 'Sorbet', 'Incense', 'Maraschino Cherry', 'Ice', 'Ginger', 'Licorice', 'Vodka', 'Virginia Cedar', 'Pistachio Leaf', 'Royal Lily', 'Water Lily', 'Absinthe', 'Tangerine', 'Nectarine blossom', 'Linen', 'Pink Crystal', 'White Cyclamen', 'Chinese Plum', 'Clover', 'Pitahaya', 'Jasmine Sambac', 'Hatkora lemon', 'Plum Blossom', 'Iris', 'Pataqueira', 'Dewberry', 'Guava', 'Opoponax', 'Almond Milk', 'Turkish Rose', 'Coriander Leaf', 'Acerola', 'Kumquat', 'Lemon Verbena', 'Carambola (Star Fruit)', 'Citron Leaf', 'Star apple', 'Sparkling Water', 'Californian Gardenia', 'Blue Sage', 'Oud', 'Pear Leaf', 'Marjoram', 'Fig Wood Bark', 'Honeysuckle', 'White Peach', 'Apple', 'Nectarine', 'Banana', 'Cherry Milk', 'Wild Strawberry Leaf', 'Prunella', 'Pimento', 'Red Freesia', 'Vanilla Absolute', 'French pastries', 'Coconut Blossom', 'Gourmand Accord', 'Hellebore flower', 'Green Apple', 'Pear Blossom', 'Lavender Extract', 'SP3 Carbon', 'Coriander Extract', 'Amaryllis', 'Calabrian bergamot', 'Floral Fruity Notes', 'Iced Tea', 'Agarwood', 'Cucumber', 'Galbanum', 'Rum', 'Gingerbread', 'Coffee', 'Sake', 'Custard', 'Dodecanal', 'Nettle', 'Water Violet', 'Citrus and Floral Notes', 'Cassia', 'mulberry', 'Sea water', 'Lemon Blossom', 'Chinese Cinnamon Wood', 'White Violet', 'Olive Leaf', 'Basil Leaf', 'Dried Plum', 'Californian Lemon', 'Aromatic Notes', 'Rhubarb', 'Broom', 'Citron', 'Yellow Fruits', 'Indian Tuberose', 'Lip gloss', 'Lemon Peel', 'Balsamic Vinegar', 'Moon Flower', 'Chinese Grapefruit', 'Cyclamen', 'Seagrass', 'Limetta', 'Myrtle', 'Earl Grey Tea', 'Matcha Tea', 'Strawberry', 'Lily', 'Black Vanilla Husk', 'Mirabelle Plum', 'Tunisian Orange Blossom', 'Yellow Freesia', 'African Ginger', 'Dried Fruits', 'Calamus', 'Soil Tincture', 'Fruity Notes', 'Toffee', 'Massoia Wood', 'African Orange Flower', 'Hamanasu or Japanese Rose', 'Carrot', 'Chocolate', 'Pomegranate', 'Galanga', 'Neroli', 'Nettle Blossom', 'Red Currant', 'Citrus Leaf', 'Myrrh', 'Candy Apple', 'Japanese Osmanthus', 'Acácia']\n",
      "903\n"
     ]
    }
   ],
   "source": [
    "def get_all_top_notes(data):\n",
    "    top_notes = set()  # Usaremos un conjunto para evitar duplicados\n",
    "\n",
    "    for item in data:\n",
    "        if \"top_notes\" in item:\n",
    "            notes = item[\"top_notes\"]\n",
    "            for note in notes:\n",
    "                top_notes.add(note)\n",
    "\n",
    "    return list(top_notes)\n",
    "\n",
    "# Ejemplo de uso\n",
    "print(get_all_top_notes(data))\n",
    "print(len(get_all_top_notes(data)))\n"
   ]
  },
  {
   "cell_type": "code",
   "execution_count": 15,
   "metadata": {},
   "outputs": [
    {
     "name": "stdout",
     "output_type": "stream",
     "text": [
      "['Prosecco', 'Piña Colada', 'Petitgrain', 'Yellow Champaca', 'Green Forest', 'Apple Mint', 'Cascalone', 'Black and Pink Pepper', 'Pelargonium', 'Teak Wood', 'Bourbon Pepper', 'Rose Geranium', 'Halva', 'Night blooming Cereus', 'Red Peony', 'Indian Spices', 'Starflower', 'Hibiscus Seed', 'Almond Blossom', 'Rose Hip', 'White Iris', 'Indian Mimosa', 'Blueberry', 'Heliotrope', 'Pink Lily', 'Parma Violet', 'Cinammon', 'Orange Peel', 'Wild Jasmine', 'Ebony', 'Tahitian Tiare Flower', 'Tequila', 'Tyger Lily', 'Coton candy', 'Green Almond', 'Green Anjou Pears', 'Vanila', 'Malt', 'Golden Lily', 'Guatemalan Cardamom', 'Barley', 'Oriental Woodsy notes', 'Oakmoss', 'Wallflower', 'Bitter Almond', 'Genet', 'Yuzu', 'Styrax', 'Hay', 'Blackcurrant Syrup', 'Hedione', 'Fig', 'Sichuan Pepper', 'Birch', 'Juniper Berries', 'Liv Tyler Rose', 'Ambrarome', 'Pink Hyacinth', 'Lotus Leaf', 'Orange', 'Tonka', 'Bran', 'Champaca', 'Red Rose', 'Woody Notes', 'Clove', 'Mahonial', 'Fir Resin', 'Bamboo', 'Turkey Red Rose', 'Rose', 'Monoi Oil', 'Coranol', 'African Violet', 'Ambergris', 'Hyrax', 'Sweet Pea', 'Indian Patchouli', 'Syringa', 'Spruce', 'Woodsy Notes', 'Pink Jasmine', 'Flowers', 'Chinese Osmanthus', 'Nutmeg', 'Amberwood', 'Snowdrops', 'Silk Vine or Milk Broom', 'Forest Fruits', 'Coconut Nectar', 'Pitosporum', 'Green Tea', 'Mahogany', 'Hazelnut', 'Banana Flower', 'Clary Sage', 'Lily-of-the-Valley', 'Passion Flower', 'Ambrette', 'Milk Mousse', 'Ylang-Ylang', 'Tansy', 'Hazelnut cocoa spread', 'Marine notes', 'Gin', 'Cardamom', 'Blue Lavender', 'White Nerium Oleander', 'Iris Butter', 'Indian Saffron', 'Marigold', 'Palm Tree', 'White Tobacco', 'Silk Tree blossom', 'Apple Tree', 'Timur', 'Resins', 'Dandelion', 'Ambertonic', 'Ceylon Cinnamon', 'Ambrette (Musk Mallow)', 'Mirabelle', 'Clearwood', 'Orange Leaf', 'Pear Wood', 'Pineapple blossom', 'Apricot', 'Exotic Woods', 'Mojito', 'Floral Notes', 'Lemon', 'Almond', 'Silk', 'Bay Leaf', 'Currant buds', 'Grenadine', 'Saffiano Leather', 'Curry', 'Jasmine Tea', 'Liatris', 'Sugar', 'Bourbon Rose', 'Sea Salt', 'Mirabilis', 'Acai Berry', 'Lime (Linden Blossom)', 'Osmanthus', 'Ylang Ylang', 'Wild Strawberry', 'Red Fruits', 'Chinese Magnolia', 'Spicy Notes', 'Blue Hyacinth', 'Cinnamon Flower', 'Black Currant', 'Wild Peony', 'Indian Lotus', 'Ishpink, Ocotea Quixos', 'Driftwood', 'Kyoto Rose petals', 'Wild Lavender', 'Oak Tree', 'Artemisia', 'Panacotta', 'Olibanum', 'Camellia', 'Musk', 'French Violet', 'Oregano', 'Cherimoya', 'Rumex', 'White Leather', 'Tobacco Leaf', 'Dry Wood', 'White Amber', 'Rhododendron', 'Nasturtium', 'Iris Flower', 'White Lily', 'White Magnolia', 'Vetyver', 'Mai Tai Cocktail', 'Paramela', 'Ravello Rose', 'pink tulip', 'Mountain Air', 'Siberian Pine', 'Priprioca', 'Palmarosa', 'Rosebay Willowherb', 'White Chocolate', 'Ginger flower', 'White Carnation', 'Texas Cedar', 'Peru Balsam', 'Black Cherry', 'Black locust Honey', 'Bubble Gum', 'Bellflower', 'Papaya flower', 'Red Apple', 'False Jasmine', 'White Pepper', 'Cassis', 'Chinese Pink Peony', 'Sandalwood', 'Taif Rose', 'Boronia', 'Neroli Essence', 'Azteca Lily', 'Ambrocenide', 'Rose Mallow', 'Aromatic Spices', 'Orris Root', 'Star Jasmine', 'Civet', 'Black Violet', 'Lorenox', 'Benzoin', 'Vanilla Caviar', 'Pink Violet', 'Amyl Salicylate', 'Geranium', 'Calabrian Mandarin', 'Lantana', 'Jabuticaba', 'French Rose', 'Amazon Lily', 'juniper berry', 'French orange flower', 'Buddleia', 'Vanilla Orchid', 'Arum Lily', 'Coriander', 'Paprika', 'Jasmine Leaf', 'Myrhh', 'Tonic Water', 'Synthetic Civet', 'Buttercream', 'Rosa Alba', 'Ebony Wood', 'Yogurt', 'Mimosa', 'Pebbles', 'Angels Trumpet', 'Casablanca Lily', 'Madagascar Vetiver', 'Nigerian Ginger', 'Vinyl', 'Red Chilli Pepper', 'Tucumã', 'Lilybelle®', 'White Ginger Lily', 'Dahlia', 'Peach Blossom', 'Iran Galbanum', 'Cappuccino', 'Sand Lily', 'Saffron', 'Fig Tree', 'Grape leaves', 'Exotic floral notes', 'Lemon Zest', 'Damask Rose', 'Castoreum', 'Angelica', 'Beeswax', 'White Wood', 'Campion Flower', 'Cloves', 'Tomato Flower', 'Balsam Fir', 'Water Flowers', 'Mugane', 'Cactus', 'Candied Ginger', 'Fig Honey', 'Whipped Cream', 'Magnolia', 'Iso E Super', 'Milk', 'Jasmine', 'Japanese Plum', 'Creme Brulee', ' Pepperwood™', 'Wisteria Flower', 'Oily Notes', 'Laurels', 'Virginian Cedar', 'Rose de Mai', 'Water Fruit', 'White Camelia', 'Cranberry', 'cannabis', 'Nard Himalayan (Jatamansi)', 'Green Tea Flower', 'Verbena', 'Roasted Coffee Beans', 'Italian Violet', 'Pink Rose', 'Marzipan', 'White Blossom', 'Elemi resin', 'Italian Jasmine', 'Pink Peony', 'Orange Blossom', 'Laotian Oud', 'Coconut Milk', 'Hibiscus', 'Chinese Cedar', 'Egyptian Jasmine', 'Sea Notes', 'Cedar Leaves', 'Moroccan Jasmine', 'Chamomile', 'Daphne', 'Frangipani', 'Plum Blossom', 'Green Leaves', 'Sweet Notes', 'Black Pepper', 'Black Orchid', 'Blue Lotus', 'Bellini', 'Shiso', 'Tiare Flower', 'Sweet Almond', 'White Currant', 'Rose Jam', 'Fruit Tea', 'Apple Blossom', 'Red Tulip', 'Lotus', 'Quince', 'Caviar', 'Wheat', 'Rose Leaf', 'Black Cardamom', 'Apple juice', 'Red Fruits Smoothie', 'Whiskey', 'Indonesian Nutmeg', 'Fruits', 'Petalia', 'Gariguette Strawberry', 'Cashmere Wood', 'Curry Tree', 'Mint', 'Kephalis', 'Chrysanthemum', 'Coal', 'Paradisone', 'Egyptian Musk', 'Red Poppy', 'Black Elder', 'Lichen', 'Tincture of Rose', 'Flower Petals', 'Bergamot', 'Oak', 'Nerium Oleander', 'Palo Santo', 'Indian Jasmine', 'Spices', 'Lamprocapnos', 'Amyris', 'Roots', 'Datura', 'Storax', 'Pink Nerium Oleander', 'Hyssop', 'Brazilian Redwood', 'Ozonic notes', 'Iris Petals', 'Indonesian Jasmine', 'Cognac', 'Olive', 'Moroccan Rose', 'Kulfi', 'Spanish Labdanum', 'White Sandalwood', 'Buchu or Agathosma', 'Moepel accord', 'Red Thyme', 'Popcorn', 'Fig Leaf', 'Butomus umbellatus', 'Pistachio', 'Peony', 'Tahitian Vanilla', 'Rain Notes', 'Black Basil', 'Granny Smith apple', 'Haitian Vetiver', 'Satureja', 'Rose Water', 'Royal Lily', 'Powdery Notes', 'White Datura', 'Laurissilva Forest', 'Violet', 'Daim', 'Praline', 'Italian Orris Root', 'Gold', 'Silkwood Blossom', 'Mahonia', 'Animal notes', 'Floral bouquet', 'Mandarin Orange', 'Violet Leaf', 'Herbal Notes', 'Redwood Flower', 'Head Space Waterfall', 'Gardenia', 'Amaretto', 'Mimosa Petals', 'Night Blooming Jasmine', 'Lime (Linden) Blossom', 'Reseda', 'Skeleton Flower (Diphylleia Grayi)', 'Green Notes', 'Plumeria', 'Earthy Notes', 'Mimosa absolute', 'Daisy', 'Madagascar Pepper', 'May Rose', 'White Cardamom', 'Eucalyptus', 'Pansy', 'Lemongrass', 'Pine Tree', 'Spicy Mint', 'Calone', 'Fern', 'Red Cedar', 'Pomarose', 'Karo-Korund', 'Lily of the Valley', 'Mango', 'Holly', 'Safraleine', 'Davana', 'Patchouli', 'Cade oil', 'Mandarin Blossom', 'Bulrush', 'Pimento Leaf', 'Madagascar Ylang-Ylang', 'Cypriol Oil or Nagarmotha', 'Sweet Grass', 'Blackberry leaf', 'Exotic Spices', 'Amber', 'Olive Tree', 'Patchouli Leaf', 'Rock rose', 'Maple', 'Egyptian Pelargonium', 'Indonesian Pepper', 'Iris Pallida', 'Pink Freesia', 'Pepperwood or Hercules Club', 'Cambodian Oud', 'Karo Karounde', 'Pine tar', 'Citrus Leaves', 'Reed', 'Dulce de leche', 'Anise', 'White Orchid', 'Carnation', 'Masala Chai', 'Cedar Essence', 'Mastic or Lentisque', 'Macarons', 'Chocolate Flower', 'Grass', 'Raspberry Leaf', 'Moroccan Mimosa', 'Black Iris', 'Bubbaloo', 'Bengal Pepper', 'White Mimosa', 'Litchi', 'Watercress', 'Princess Tree or Paulownia', 'Longan Berries', 'Poppy', 'English Rose', 'Barberry', 'Strelitzia', 'Sweet Pepper', 'Slate', 'Cassia Bourbon', 'White Royal Lily', 'Watery Notes', 'Lime', 'Sicilian Lemon', 'Hibiscus Blossom', 'Impatiens', 'Bougainvillea', 'Narcissus', 'Fennel', 'Apple Leaf', 'Mango Blossom', 'Coconut Water', 'Italian Iris', 'Dihydromyrcenol', 'Sunflower', 'Tonka Bean', 'Champagne', 'Lemon Leaf Oil', 'Exotic Fruits', 'White Honey', 'Honeydew Blossom', 'Freesia', 'Nougat', 'Mignonette', 'Rice Basmati', 'Tarragon', 'Persimmon', 'Georgywood', 'Cottonwood (Poplar)', 'Petitgrain Paraguay', 'Grapefruit', 'Celery', 'Hyacinth', 'Cornflower or Sultan seeds', 'Nutty Notes', 'Macadamia', 'Mock Orange', 'Honey', 'Brazilian Orange', 'Sandalowood', 'Moss', 'Zinnia', 'heather', 'Wild Rose', 'Dove tree', 'Salt', 'Transparent Flowers', 'Sand', 'Basil', 'Pinot Noir grapes', 'Tagetes', 'Marron glace', 'Javanol', 'Bourbon Vetiver', 'Red Wine', 'Methyl Pamplemousse', 'Caraway', 'Strawberry Leaf', 'Lotus Petals', 'Sea Daffodil', 'Juniper', 'Red Pepper', 'Celery Seeds', 'West Indian Bay', 'Stephanotis', 'Calla Lily', 'South African Sage', 'Carrot Seeds', 'Grasse Rose', 'Maninka', 'Soursop', 'Yellow Mandarin', 'French Narcissus', 'Mate', 'White Cedar Extract', 'Cereals', 'Cashmirwood', 'Cotton Flower', 'Java vetiver oil', 'Mineral notes', 'Bourbon Geranium', 'Palisander Rosewood', 'Lilac', 'Cacao Pod', 'Pomegranate Blossom', 'Labdanum', 'Mangosteen', 'Coca-Cola', 'Tulip', 'Japanese Cherry Blossom', 'Apricot Blossom', 'Chinese Litchi', 'Vanilla Flower', 'Umbu-Cajá | Taperebá', 'Varnish Accord', 'Aquozone', 'plum', 'Dates', 'Cumin', 'Coffee blossom', 'Balsamic Notes', 'Pear', 'Mace', 'Akigalawood', 'Green Lily', 'Milk Chocolate', 'Bamboo Leaf', 'Papyrus', 'White Rose', 'Plum', 'Transparent Woods', 'Fig Nectar', 'African Geranium', 'Fire', 'Fig Blossom', 'Red Berries', 'Water Peony', 'Papaya', 'Tahitian Gardenia', 'Water Hyacinth', 'Green Accord', 'Lysylang', 'Butterfly Orchid', 'Russian Leather', 'Cherry', 'Violet Leaves', 'Candied Almond', 'Rose Oil', 'Avocado', 'White Willow', 'Aquatic notes', 'Indian Ginger', 'Birch Tar', 'Wild Berries', 'White Chocolate Truffle', 'Rose Petals', 'Allspice', 'Italian Mandarin', 'Tropical Fruits', 'Ice cream', 'Cardamon', 'Copaiba balm', 'Tuberose', 'Dyer’s Greenweed', 'Lemon Tree', 'Camelia', 'Indonesian Carnation', 'Scent Trek®', 'Madagascar Cloves', 'Truffle', 'Raspberry', 'Talc', 'Pine Tree Needles', 'Melon', 'Breu-Branco', 'Madagascar Vanilla', 'Vanilla', 'Jackfruit', 'Citrus Blossom', 'Star Anise', 'Cedar', 'Black Currant Blossom', 'Rice', 'Bay essence', 'Sinfonide', 'Pineapple Leaf', 'Clementine', 'Meringue', 'Black locust', 'Wild Orchid', 'Israeli Basil', 'Agave', 'Cinnamon Leaf', 'Brandy', 'Pineapple', 'Tolu Balsam', 'White Lotus', 'Olive Blossom', 'Factor X', 'Red Tea', 'Pink Pepper', 'Mayflower', 'Yellow Plum', 'Tamarind', 'Tahitian Vetiver', 'Gustavia Flower', 'Tropical Fruit', 'Rhubarb Leaf', 'Amalfi Lemon', 'Cypress Leaf', 'Cabreuva', 'Green Lotus', 'Rangoon Creeper', 'Kiwi', 'Tea Leaf', 'Tea Rose', 'Wormwood', 'Rose Juliette Greco', 'Prunol', 'Canelé', 'White Flowers', 'Palm Leaf', 'Ink', 'Egyptian Rosewood', 'Berry Fruits', 'Vanille', 'Mirabella Plum', 'Raspberry Bloom', 'Hiacynth', 'Milk Cream', 'Smoke', 'Daiquiri', 'Frankincense', 'Spanish Jasmine', 'Pine needles', 'Dark Chocolate', 'Thyme', 'Fir', 'Orchid Pink Leopard', 'Forget me not', 'Walnut', 'Leather', 'Gooseberry', 'Guaiac Wood', 'Italian Cypress', 'Hortensia', 'Kashmir wood', 'Black hemlock or Tsuga', 'Rosemary', 'Nutmeg Flower', 'Pink Lotus', 'Rooibos Tea', 'Metallic notes', 'Cactus Flower', 'Primrose', 'Chinese Peony', 'Freesia Petals', 'French labdanum', 'Singapore Patchouli', 'Watermelon', 'Flax', 'Thailand Oud', 'Marmalade', 'Algae', 'Lavender', 'White Heliotrope', 'Blood Orange', 'Big Strawberry', 'Desert Rose', 'Orris', 'Geosmin', 'Cinnamon', 'Cedar Needles', 'Blackwood', 'Turnera Diffusa (Damiana)', 'Black Tea', 'Sicilian Bergamot', 'black fig', 'Immortelle', 'Cherry Blossom', 'Siam Benzoin', 'Atlas Cedar', 'White Woods', 'Cananga', 'Orchard Blossom', 'Vetiver', 'Brazilian Rosewood', 'Brown sugar', 'Alumroot', 'Sclarene', 'Chinese Jasmine', 'Marshmallow', 'Costus', 'Camphor', 'Fenugreek', 'Bulgarian Rose', 'Beer/Ale', 'Fuchsia', 'Brioche', 'Ginseng', 'Peat', 'Gurjan balsam', 'Tuscan Iris', 'Resin', 'Tunisian Neroli', 'Coumarin', 'Sage', 'Dew Drop', 'Suede', 'Violet Root', 'Tiramisu', 'Black currant leaf', 'Cashmeran', 'Wildflowers', 'Sesame', 'ebony tree', 'Tea', 'Wisteria', 'Gentiana', 'Blackberry', 'Passionfruit', 'Chili Pepper', 'Caramel', 'Green Pepper', 'Baie Rose', 'Red Vanill-Orchid', 'Pumpkin', 'Water Mint', 'Snowberry', 'elemi', 'Hawthorn', 'Citruses', 'Water Jasmine', 'Cotton Candy', 'Marshamallow', 'Orchid', 'Magnolia Petals', 'Sugar Cane', 'Guarana', 'Sour Cherry', 'Damask Plum', 'Liquor', 'Sequoia', 'Greengage', 'Tea Tree Oil', 'Litsea Cubeba', 'Guava blossom', 'Flint', 'Hinoki Wood', 'Cypress', 'Grapefruit blossom', 'Solar Notes', 'Champagne Rosé', 'Lapsang Souchong Tea', 'Indole', 'Green Grass', 'Tomato Leaf', 'Peach', 'Mexican chocolate', 'Italian Lemon', 'Vetiver Root', 'Oriental notes', 'Pine', 'Oat', 'Magnolan', 'Loganberry', 'Birch Leaf', 'Seaweed', 'Grapes', 'Turmeric', 'Sandalwood Flower', 'Ivy', 'Bitter Orange', 'Copahu Balm', 'Limoncello', 'Indonesian Patchouli Leaf', 'Cacao', 'Cistus Incanus', 'White Oud', 'Indian Oud', 'Chestnut', 'Tobacco', 'Lime Blossom', 'Pepper Oil', 'Betel Pepper', 'Yellow Rose', 'Cupcake', 'Bourbon Vanilla', 'Ash', 'Lemon Leaf', 'Apple Tree Blossom', 'Sour Cherry Blossom', 'White Tea', 'Hivernal®', 'Coconut', 'Gorse', 'Blueberry Leaf', 'oak moss', 'Lipstick', 'Green Mandarin', 'Pepper', 'Pomelo', 'Water Notes', 'Aldehydes', 'Sandal', 'White Musk', 'Precious Woods', 'Cedarwood', 'Agarwood (Oud)', 'Rhuburb', 'Clove Leaf', 'Incense', 'Sorbet', 'Ice', 'Ginger', 'Licorice', 'Vodka', 'Virginia Cedar', 'Ambroxan', 'Maltol', 'Water Lily', 'Absinthe', 'Red Lily', 'Tangerine', 'Seashells', 'Nectarine blossom', 'Lady of the Night Flower', 'Linen', 'Clover', 'Pitahaya', 'Jasmine Sambac', 'Tobacco Blossom', 'Red Cyclamen', 'Iris', 'Pataqueira', 'Dewberry', 'Guava', 'Opoponax', 'Almond Milk', 'Seriguela', 'Turkish Rose', 'Coriander Leaf', 'Kumquat', 'Lemon Verbena', 'Loukhoum', 'Carambola (Star Fruit)', 'Star apple', 'Blue Sage', 'Oud', 'Marjoram', 'Oolong tea', 'Fig Wood Bark', 'Almond Cream', 'Honeysuckle', 'Artichoke', 'White Peach', 'Apple', 'Nectarine', 'Turkish Rose Oil', 'Banana', 'Vanilla Absolute', 'Rose Oxide', 'Pimento', 'Red Freesia', 'Prunella', 'Capitiú', 'Gourmand Accord', 'Hellebore flower', 'Green Apple', 'Pear Blossom', 'Lavender Extract', 'Nympheal™', 'Spun Sugar', 'Pecan', 'Amaryllis', 'Yellow Narcissus', 'Coriander Extract', 'Floral Fruity Notes', 'Calabrian bergamot', 'Agarwood', 'Cucumber', 'Galbanum', 'Henna', 'Skin', 'Asphalt', 'Rum', 'Gingerbread', 'Coffee', 'Custard', 'White Violet', 'Cassia', 'Olive Leaf', 'Sea water', 'Citrus and Floral Notes', 'Melissa Flower', 'Black Leather', 'Brazil nut', 'Lemon Blossom', 'Dried Plum', 'Aromatic Notes', 'Chocolate Truffle', 'Rhubarb', 'Broom', 'Citron', 'Rose Thorn', 'Chinese Black Tea', 'Indian Tuberose', 'Moroccan and Indian Jasmine', 'Balsamic Vinegar', 'Lemon Peel', 'Yellow Poppy', 'White Suede', 'Black Rose', 'Cyclamen', 'Seagrass', 'Myrtle', 'Vanilla Pod', 'Earl Grey Tea', 'Matcha Tea', 'Strawberry', 'Lily', 'Black Vanilla Husk', 'Mirabelle Plum', 'Tunisian Orange Blossom', 'Yellow Freesia', 'Maple sap', 'Dried Fruits', 'Soil Tincture', 'Fruity Notes', 'Toffee', 'African Orange Flower', 'Hamanasu or Japanese Rose', 'Red Myrrh', 'Carrot', 'Chocolate', 'Pomegranate', 'Violet Woodsorrel', 'Butter', 'Galanga', 'Neroli', 'Red Currant', 'Candy Apple', 'Myrrh', 'Citrus Leaf', 'Japanese Osmanthus', 'Acácia']\n",
      "1023\n"
     ]
    }
   ],
   "source": [
    "def get_all_middle_notes(data):\n",
    "    middle_notes = set()  # Usaremos un conjunto para evitar duplicados\n",
    "\n",
    "    for item in data:\n",
    "        if \"middle_notes\" in item:\n",
    "            notes = item[\"middle_notes\"]\n",
    "            for note in notes:\n",
    "                middle_notes.add(note)\n",
    "\n",
    "    return list(middle_notes)\n",
    "\n",
    "# Ejemplo de uso\n",
    "print(get_all_middle_notes(data))\n",
    "print(len(get_all_middle_notes(data)))\n"
   ]
  },
  {
   "cell_type": "code",
   "execution_count": 16,
   "metadata": {},
   "outputs": [
    {
     "name": "stdout",
     "output_type": "stream",
     "text": [
      "['Raisin', 'Orcanox™', 'Petitgrain', 'Canada Balsam', 'Wine Lees', 'Black and Pink Pepper', 'Rose Geranium', 'Teak Wood', 'Indian Spices', 'Larch', 'Hibiscus Seed', 'White Iris', 'Rose Hip', 'Blueberry', 'Heliotrope', 'Parma Violet', 'Cinammon', 'Ebony', 'Sylkolide', 'Vanillin', 'Almond Tree', 'Mitti Attar', 'Green Almond', 'Coton candy', 'Mystikal', 'Vanila', 'Malt', 'Cobblestone', 'Orangewood', 'Barley', 'Oriental Woodsy notes', 'Oakmoss', 'Yuzu', 'Hay', 'Kyara Incense', 'Genet', 'Styrax', 'Bitter Almond', 'Blackcurrant Syrup', 'Hedione', 'Fig', 'Birch', 'Juniper Berries', 'Ambrarome', 'Tonka', 'Orange', 'Bran', 'Red Rose', 'Woody Notes', 'Clove', 'Valerian', 'Fir Resin', 'Bamboo', 'Rose', 'Himalayan Cedar', 'Ambergris', 'Hyrax', 'Indian Patchouli', 'Spruce', 'Woodsy Notes', 'Flowers', 'Vanilla Bahiana', 'Nutmeg', 'Amberwood', 'Mahogany', 'Coconut Nectar', 'Green Tea', 'Hazelnut', 'Clary Sage', 'Milk Mousse', 'Lily-of-the-Valley', 'Ambrette', 'Virginian Patchouli', 'Passion Flower', 'Ylang-Ylang', 'Iris Butter', 'Cardamom', 'White Nerium Oleander', 'Gin', 'Palm Tree', 'Ambrettolide', 'White Tobacco', 'Apple Tree', 'Resins', 'Dreamwood', 'Ambertonic', 'Liquidambar', 'Ambrette (Musk Mallow)', 'Clearwood', 'Mirabelle', 'Pear Wood', 'Exotic Woods', 'Apricot', 'Pineapple blossom', 'Floral Notes', 'Lemon', 'Almond', 'Bay Leaf', 'Sycamore', 'Liatris', 'Sugar', 'Cherry Tree', 'Sea Salt', 'Helvetolide', 'Acai Berry', 'Lime (Linden Blossom)', 'Osmanthus', 'Wild Strawberry', 'Red Fruits', 'Safflower', 'Crystal Amber', 'Spicy Notes', 'Black Currant', 'Ishpink, Ocotea Quixos', 'Driftwood', 'Panacotta', 'Oak Tree', 'Artemisia', 'Olibanum', 'Almond Wood', 'Vinyl Guaiacol', 'Musk', 'White Leather', 'Tobacco Leaf', 'Dry Wood', 'White Amber', 'Serenolide', 'Iris Flower', 'White Lily', 'Vetyver', 'Mexican Vanilla', 'Mountain Air', 'Priprioca', 'Palmarosa', 'Pitanga', 'White Chocolate', 'Texas Cedar', 'Peru Balsam', 'Leatherwood', 'Black locust Honey', 'Bubble Gum', 'Cassis', 'Ambreine', 'Indian Vanilla', 'Sandalwood', 'Taif Rose', 'Ambrocenide', 'Orris Root', 'Civet', 'Lorenox', 'Black Violet', 'Evernyl', 'Benzoin', 'Geranium', 'Massoia', 'juniper berry', 'Canadian balsam', 'Red Amber', 'Vanilla Orchid', 'Coriander', 'Paprika', 'Myrhh', 'Synthetic Civet', 'gunpowder', 'Ebony Wood', 'Mimosa', 'Pebbles', 'Madagascar Vetiver', 'Dahlia', 'Peach Blossom', 'Confetti (Sugared Almonds)', 'Saffron', 'Fig Tree', 'Damask Rose', 'Castoreum', 'Beeswax', 'Angelica', 'White Wood', 'Water Flowers', 'Cloves', 'Balsam Fir', 'Whipped Cream', 'Magnolia', 'Iso E Super', 'Lava', 'Milk', 'Jasmine', 'Mousse de Saxe', 'Japanese Plum', 'Creme Brulee', 'Macchiato', 'Oily Notes', 'Laurels', 'Virginian Cedar', 'Rose de Mai', 'Plum Wood', 'Roasted Coffee Beans', 'Calypsone', 'Marzipan', 'Elemi resin', 'Siam Resin', 'Orange Blossom', 'Laotian Oud', 'Coconut Milk', 'Hibiscus', 'Chinese Cedar', 'Sea Notes', 'Icing pink', 'Chamomile', 'Plum Blossom', 'Green Leaves', 'Orange Oil', 'Sweet Notes', 'Black Pepper', 'Frangipani', 'Sweet Almond', 'Tiare Flower', 'Serbian Oakmoss', 'Apple Blossom', 'Lotus', 'Light Amber', 'Tomato', 'Black Cardamom', 'Whiskey', 'Fruits', 'Indonesian Nutmeg', 'Cashmere Wood', 'White Rum', 'Mint', 'Coal', 'Egyptian Musk', 'Lichen', 'Tincture of Rose', 'Velvet', 'Silver Pine', 'Oak', 'Bergamot', 'Nerium Oleander', 'Palo Santo', 'Cosmone', 'Spices', 'Amyris', 'Roots', 'Brazilian Redwood', 'Hinoki', 'Ozonic notes', 'Cognac', 'White Grapefruit', 'Spanish Labdanum', 'Hungarian oakmoss', 'White Sandalwood', 'Popcorn', 'Fig Leaf', 'California Cedar', 'Peony', 'Pistachio', 'Tahitian Vanilla', 'Rain Notes', 'CO2 Extracts', 'Fish', 'Haitian Vetiver', 'Powdery Notes', 'Poplar (Populus) buds', 'Chinese Patchouli', 'Violet', 'Daim', 'Praline', 'Animal notes', 'Mandarin Orange', 'Steam Accord', 'Violet Leaf', 'Herbal Notes', 'Gardenia', 'Natural Vanilla', 'Rosa Rubiginosa', 'Green Notes', 'Earthy Notes', 'Blonde Woods', 'Eucalyptus', 'Pine Tree', 'Red Cedar', 'Spicy Mint', 'Calone', 'Fern', 'Agave nectar', 'Mango', 'Holly', 'Stone', 'Davana', 'Patchouli', 'Cade oil', 'Cypriol Oil or Nagarmotha', 'Exotic Spices', 'Amber', 'Olive Tree', 'Patchouli Leaf', 'Rock rose', 'Maple', 'Cambodian Oud', 'Dulce de leche', 'Anise', 'Carnation', 'Cedar Essence', 'Mastic or Lentisque', 'Macarons', 'Chocolate Flower', 'Black Amber', 'Argan', 'Grass', 'Raspberry Leaf', 'Vietnamese Oud', 'Princess Tree or Paulownia', 'Litchi', 'Amber Xtreme', 'Watery Notes', 'Lime', 'Candlenut', 'Narcissus', 'Fennel', 'Coconut Water', 'Italian Iris', 'Sunflower', 'Tonka Bean', 'Exotic Fruits', 'White Honey', 'Freesia', 'Laburnum', 'Nougat', 'Mignonette', 'Rice Basmati', 'Georgywood', 'Cottonwood (Poplar)', 'Petitgrain Paraguay', 'Grapefruit', 'Celery', 'Hyacinth', 'Roasted Nuts', 'Nutty Notes', 'Macadamia', 'Honey', 'Paperbark', 'Sandalowood', 'Moss', 'Salt', 'Sand', 'Basil', 'Marron glace', 'Tagetes', 'Pearls', 'Red Wine', 'Stems Greens', 'Bourbon Vetiver', 'Caraway', 'Juniper', 'Celery Seeds', 'Black Musk', 'West Indian Bay', 'Stephanotis', 'Carrot Seeds', 'boxwood', 'Egyptian balsam', 'Mate', 'White Cedar Extract', 'Cashmirwood', 'Ambretone', 'Cotton Flower', 'Java vetiver oil', 'Mineral notes', 'Bourbon Geranium', 'Palisander Rosewood', 'Lilac', 'Cacao Pod', 'Labdanum', 'Vanilla Flower', 'plum', 'Dates', 'Cumin', 'Balsamic Notes', 'Pear', 'Para-Cresyl Phenyl Acetate', 'Akigalawood', 'Green Lily', 'Cashmere Musk', 'Papyrus', 'Brown Scotch Tape', 'White Rose', 'Cacao Butter', 'Plum', 'Transparent Woods', 'Fire', 'Fig Nectar', 'Papaya', 'Red Berries', 'Russian Leather', 'Water Hyacinth', 'Green Accord', 'Graperfuit', 'Red Peach', 'Cherry', 'Violet Leaves', 'Candied Almond', 'Rose Oil', 'Moscow Mule', 'Aquatic notes', 'Birch Tar', 'Wild Berries', 'Rose Petals', 'Allspice', 'Tropical Fruits', 'Ice cream', 'Lemon Tree', 'Copaiba balm', 'Tuberose', 'Cardamon', 'Truffle', 'Raspberry', 'Guaiacol', 'Pine Tree Needles', 'Melon', 'Breu-Branco', 'Madagascar Vanilla', 'Cherry Liqueur', 'Vanilla', 'Norlimbanol™', 'Star Anise', 'Cedar', 'Rice', 'Sinfonide', 'Meringue', 'Black locust', 'Brandy', 'Pineapple', 'Tolu Balsam', 'Assam Oud', 'Pink Pepper', 'Tahitian Vetiver', 'Tamarind', 'White Wine', 'Rangoon Creeper', 'Tea Leaf', 'Wormwood', 'White Flowers', 'Palm Leaf', 'Ink', 'Egyptian Rosewood', 'Berry Fruits', 'Vanille', 'Raspberry Bloom', 'Smoke', 'Frankincense', 'Pine needles', 'Dark Chocolate', 'Fir', 'Plum Tree', 'Walnut', 'Leather', 'Gray Musk', 'Guaiac Wood', 'Kashmir wood', 'Rosemary', 'Nutmeg Flower', 'Metallic notes', 'Honeycomb', 'French labdanum', 'Singapore Patchouli', 'Watermelon', 'Creosote Bush', 'Thailand Oud', 'Panettone', 'Algae', 'Lavender', 'White Heliotrope', 'Christmas Tree or Flame Tree', 'Orris', 'Desert Rose', 'Cinnamon', 'Cedar Needles', 'Blackwood', 'Black Tea', 'Immortelle', 'Cashalox', 'White Woods', 'Atlas Cedar', 'Siam Benzoin', 'Gerbera', 'Vetiver', 'Brazilian Rosewood', 'Brown sugar', 'Marshmallow', 'Costus', 'Camphor', 'Fenugreek', 'Bulgarian Rose', 'Australian Sandalwood', 'Ginseng', 'Peat', 'Gurjan balsam', 'Tuscan Iris', 'Resin', 'Coumarin', 'Thanaka Wood', 'Sage', 'Suede', 'Black Licorice', 'Ambrofix™', 'Violet Root', 'Tiramisu', 'Cashmeran', 'Wildflowers', 'ebony tree', 'Sesame', 'Tea', 'Wisteria', 'Blackberry', 'Red Sandalwood', 'Passionfruit', 'Vanilla Bean', 'Caramel', 'elemi', 'Hawthorn', 'Citruses', 'Butterscotch', 'Water Jasmine', 'Cotton Candy', 'Marshamallow', 'Orchid', 'Belambra tree', 'Sugar Cane', 'Mysore Sandalwood', 'Damask Plum', 'Sequoia', 'Liquor', 'Moroccan Cedar', 'Tea Tree Oil', 'Litsea Cubeba', 'Cedarmoss', 'Hinoki Wood', 'Cypress', 'Solar Notes', 'Green Grass', 'Peach', 'Italian Lemon', 'Mexican chocolate', 'Oriental notes', 'Pine', 'Oat', 'Seaweed', 'Birch Leaf', 'Cake', 'Trimofix®', 'Grapes', 'Turmeric', 'Milkshake', 'Copahu Balm', 'Ivy', 'Indonesian Patchouli Leaf', 'White Oud', 'Cacao', 'Chestnut', 'Indian Oud', 'Cistus Incanus', 'Bitter Orange', 'Tobacco', 'Nutella', 'Mushroom', 'Cupcake', 'Bourbon Vanilla', 'Ash', 'Lemon Leaf', 'White Tea', 'dark woodsy notes', 'Coconut', 'oak moss', 'Pepper', 'Water Notes', 'Aldehydes', 'Sandal', 'Civetta', 'White Musk', 'Precious Woods', 'Cedarwood', 'Agarwood (Oud)', 'Rhuburb', 'Incense', 'Sorbet', 'Ice', 'Ginger', 'Licorice', 'Vodka', 'Virginia Cedar', 'Ambroxan', 'Maltol', 'Water Lily', 'Beech', 'Tangerine', 'Ambrox Super', 'Clover', 'Jasmine Sambac', 'Tobacco Blossom', 'Iris', 'Pataqueira', 'Opoponax', 'Almond Milk', 'Turkish Rose', 'Loukhoum', 'Lemon Verbena', 'Oud', 'Almond Cream', 'Turkish Rose Oil', 'Honeysuckle', 'Nectarine', 'White Peach', 'Apple', 'Vanilla Absolute', 'Pimento', 'Gourmand Accord', 'Hellebore flower', 'Cetalox', 'Spun Sugar', 'Vanilla Sugar', 'Agarwood', 'Galbanum', 'Skin', 'Gingerbread', 'Rum', 'Coffee', 'Custard', 'White Violet', 'Cassia', 'Sea water', 'Black Leather', 'Brazil nut', 'Dried Plum', 'Broom', 'Rhubarb', 'Chinese Black Tea', 'Black Clover', 'Balsamic Vinegar', 'White Suede', 'Natural Musk', 'Black Rose', 'Cyclamen', 'Myrtle', 'Vanilla Pod', 'Matcha Tea', 'Black Vanilla Husk', 'Lily', 'Strawberry', \"Calissons d'Aix\", 'Dried Fruits', 'Soil Tincture', 'Industrial glue', 'Toffee', 'Fruity Notes', 'Massoia Wood', 'African Orange Flower', 'Peach Cream', 'Carrot', 'Chocolate', 'Butter', 'Pomegranate', 'Violet Woodsorrel', 'Neroli', 'Candy Apple', 'Red Currant', 'Myrrh', 'Acácia']\n",
      "667\n"
     ]
    }
   ],
   "source": [
    "def get_all_base_notes(data):\n",
    "    base_notes = set()  # Usaremos un conjunto para evitar duplicados\n",
    "\n",
    "    for item in data:\n",
    "        if \"base_notes\" in item:\n",
    "            notes = item[\"base_notes\"]\n",
    "            for note in notes:\n",
    "                base_notes.add(note)\n",
    "\n",
    "    return list(base_notes)\n",
    "\n",
    "# Ejemplo de uso\n",
    "print(get_all_base_notes(data))\n",
    "print(len(get_all_base_notes(data)))"
   ]
  },
  {
   "cell_type": "code",
   "execution_count": 23,
   "metadata": {},
   "outputs": [
    {
     "name": "stdout",
     "output_type": "stream",
     "text": [
      "16990\n"
     ]
    }
   ],
   "source": [
    "flatten_data_list = flatten_data(data)\n",
    "print(len(flatten_data_list))"
   ]
  },
  {
   "cell_type": "code",
   "execution_count": 24,
   "metadata": {},
   "outputs": [
    {
     "name": "stdout",
     "output_type": "stream",
     "text": [
      "{'id': '6536f1ab22f0db67ef748535', 'idNumber': 551, 'name': 'Le Secret Du Luxe Brocard perfume - a fragrance for women 2019', 'link': 'https://www.fragrantica.com/perfume/Brocard/Le-Secret-Du-Luxe-53808.html', 'img': 'https://fimgs.net/mdimg/perfume/social.53808.jpg', 'designer': 'Brocard', 'official_gender': 'for women', 'rating': 3.12, 'votes': 17, 'winter': 0, 'summer': 0, 'autumn': 0, 'spring': 0, 'day': 0, 'night': 0, 'longevity_very_weak': 0, 'longevity_weak': 0, 'longevity_moderate': 0, 'longevity_long_lasting': 0, 'longevity_very_eternal': 0, 'sillage_intimate': 0, 'sillage_moderate': 0, 'sillage_strong': 0, 'sillage_enormous': 0, 'gender_female': 0, 'gender_more_female': 0, 'gender_unisex': 0, 'gender_more_male': 0, 'gender_male': 0, 'fragance_aspects': {'longevity': {'very weak': 0, 'weak': 0, 'moderate': 0, 'long lasting': 0, 'eternal': 0}, 'sillage': {'intimate': 0, 'moderate': 0, 'strong': 0, 'enormous': 0}, 'gender': {'female': 0, 'more female': 0, 'unisex': 0, 'more male': 0, 'male': 0}}, 'main_accords': [{'Accord': 'white floral', 'Value': '100.00'}, {'Accord': 'musky', 'Value': '89.50'}, {'Accord': 'fresh', 'Value': '73.40'}, {'Accord': 'sweet', 'Value': '73.05'}, {'Accord': 'fruity', 'Value': '72.70'}, {'Accord': 'powdery', 'Value': '66.40'}, {'Accord': 'soft spicy', 'Value': '59.75'}, {'Accord': 'vanilla', 'Value': '58.00'}, {'Accord': 'aquatic', 'Value': '55.20'}, {'Accord': 'floral', 'Value': '47.85'}], 'top_notes': ['Pear', 'Pink Pepper', 'Melon', 'Citruses'], 'middle_notes': ['Jasmine', 'Lily-of-the-Valley', 'Black Currant', 'Rose', 'Gardenia'], 'base_notes': ['Musk', 'Vanilla', 'Sandalwood']}\n"
     ]
    }
   ],
   "source": [
    "print(flatten_data_list[550])"
   ]
  }
 ],
 "metadata": {
  "kernelspec": {
   "display_name": ".venv",
   "language": "python",
   "name": "python3"
  },
  "language_info": {
   "codemirror_mode": {
    "name": "ipython",
    "version": 3
   },
   "file_extension": ".py",
   "mimetype": "text/x-python",
   "name": "python",
   "nbconvert_exporter": "python",
   "pygments_lexer": "ipython3",
   "version": "3.11.6"
  }
 },
 "nbformat": 4,
 "nbformat_minor": 2
}
